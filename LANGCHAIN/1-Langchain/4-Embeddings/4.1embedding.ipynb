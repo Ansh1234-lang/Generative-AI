{
 "cells": [
  {
   "cell_type": "markdown",
   "id": "eb2779c5",
   "metadata": {},
   "source": [
    "#### Embedding Techniques\n",
    "\n",
    "\n",
    "Converting text into vectors"
   ]
  },
  {
   "cell_type": "code",
   "execution_count": null,
   "id": "74cfecfc",
   "metadata": {},
   "outputs": [],
   "source": [
    "import os\n",
    "from dotenv import load_dotenv\n",
    "load_dotenv() #load all the environment variables"
   ]
  },
  {
   "cell_type": "code",
   "execution_count": null,
   "id": "f375cd02",
   "metadata": {},
   "outputs": [],
   "source": [
    "os.environ[\"OPENAI_API_KEY\"]=os.getenv(\"OPENAI_API_KEY\")"
   ]
  },
  {
   "cell_type": "code",
   "execution_count": null,
   "id": "ab092d3b",
   "metadata": {},
   "outputs": [],
   "source": [
    "from langchain_openai import OpenAIEmbeddings\n",
    "embeddings=OpenAIEmbeddings(model=\"text-embedding-3-large\")\n",
    "embeddings"
   ]
  },
  {
   "cell_type": "code",
   "execution_count": null,
   "id": "64084f95",
   "metadata": {},
   "outputs": [],
   "source": [
    "text = \"this is a tutorial on OPENAI EMBEDDINGS\"\n",
    "query_result= embeddings.embed_query(text)  ## wrong api key is given edit api key to get the answer\n",
    "query_result"
   ]
  },
  {
   "cell_type": "code",
   "execution_count": null,
   "id": "cc6ab717",
   "metadata": {},
   "outputs": [],
   "source": [
    "len(query_result)"
   ]
  },
  {
   "cell_type": "code",
   "execution_count": null,
   "id": "36d3a71a",
   "metadata": {},
   "outputs": [],
   "source": [
    "embeddings_1024=OpenAIEmbeddings(model=\"text-embedding-3-large\",dimensions=1024)"
   ]
  },
  {
   "cell_type": "code",
   "execution_count": null,
   "id": "aec653ff",
   "metadata": {},
   "outputs": [],
   "source": [
    "embeddings_1024"
   ]
  },
  {
   "cell_type": "code",
   "execution_count": null,
   "id": "54b318e4",
   "metadata": {},
   "outputs": [],
   "source": [
    "text = \"this is a tutorial on OPENAI EMBEDDINGS\"\n",
    "query_result= embeddings.embed_query(text)  ##edit api key to get the answer\n",
    "len(query_result)"
   ]
  },
  {
   "cell_type": "code",
   "execution_count": null,
   "id": "a2ba82e6",
   "metadata": {},
   "outputs": [],
   "source": [
    "query_result"
   ]
  },
  {
   "cell_type": "markdown",
   "id": "4f8dd261",
   "metadata": {},
   "source": [
    "#### ChromaDB"
   ]
  },
  {
   "cell_type": "code",
   "execution_count": null,
   "id": "26cc00bc",
   "metadata": {},
   "outputs": [],
   "source": [
    "# from langchain_community.vectorstores import Chroma\n",
    "\n",
    "# # db= Chroma.from_documents(final_documents, embeddings_1024)\n",
    "# db"
   ]
  },
  {
   "cell_type": "code",
   "execution_count": null,
   "id": "b000d394",
   "metadata": {},
   "outputs": [],
   "source": [
    "# query=\"it will be all the easier for us to conduct oursekves as belligerents\"\n",
    "# retrived_result=db.similarity_search(query)\n",
    "# print(retrived_result)\n"
   ]
  }
 ],
 "metadata": {
  "kernelspec": {
   "display_name": "venv",
   "language": "python",
   "name": "python3"
  },
  "language_info": {
   "codemirror_mode": {
    "name": "ipython",
    "version": 3
   },
   "file_extension": ".py",
   "mimetype": "text/x-python",
   "name": "python",
   "nbconvert_exporter": "python",
   "pygments_lexer": "ipython3",
   "version": "3.11.9"
  }
 },
 "nbformat": 4,
 "nbformat_minor": 5
}
