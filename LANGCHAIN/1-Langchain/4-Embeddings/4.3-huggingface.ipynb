{
 "cells": [
  {
   "cell_type": "markdown",
   "id": "909663e9",
   "metadata": {},
   "source": [
    "#### Embedding Technique Using HuggingFace"
   ]
  },
  {
   "cell_type": "code",
   "execution_count": null,
   "id": "510f4316",
   "metadata": {},
   "outputs": [],
   "source": [
    "import os\n",
    "from dotenv import load_dotenv\n",
    "load_dotenv() #load all the environment variable"
   ]
  },
  {
   "cell_type": "code",
   "execution_count": null,
   "id": "6aa515c8",
   "metadata": {},
   "outputs": [],
   "source": [
    "os.environ['HF_TOKEN']= os.getenv(\"HF_TOKEN\")"
   ]
  },
  {
   "cell_type": "markdown",
   "id": "0a8233e8",
   "metadata": {},
   "source": [
    "#### Sentence Transformer on HuggingFace\n",
    "Huggingface sentence-transformer is a python framework for state of the art sentence, text and image embedding. One of the embedding model is used in the HuggingfaceEmbedding class. We have also added an alias for sentenceTransformerEmbedding for user who are more familiar with directly using that package"
   ]
  },
  {
   "cell_type": "code",
   "execution_count": null,
   "metadata": {},
   "outputs": [],
   "source": [
    "from langchain_huggingface import HuggingFaceEmbeddings\n",
    "embedding=HuggingFaceEmbeddings(model_name=\"sentence-transformers/all-MiniLM-L6-v2\")"
   ]
  },
  {
   "cell_type": "code",
   "execution_count": null,
   "metadata": {},
   "outputs": [],
   "source": [
    "text= \"this is a test document\"\n",
    "query_result= embedding.embed_query(text)\n",
    "query_result"
   ]
  },
  {
   "cell_type": "code",
   "execution_count": null,
   "id": "626c7622",
   "metadata": {},
   "outputs": [],
   "source": [
    "len(query_result)"
   ]
  },
  {
   "cell_type": "code",
   "execution_count": null,
   "id": "df691bdc",
   "metadata": {},
   "outputs": [],
   "source": [
    "doc_result= embedding.embed_documents([text,'this is a test document'])\n",
    "doc_result[0]"
   ]
  }
 ],
 "metadata": {
  "kernelspec": {
   "display_name": "venv",
   "language": "python",
   "name": "python3"
  },
  "language_info": {
   "codemirror_mode": {
    "name": "ipython",
    "version": 3
   },
   "file_extension": ".py",
   "mimetype": "text/x-python",
   "name": "python",
   "nbconvert_exporter": "python",
   "pygments_lexer": "ipython3",
   "version": "3.11.9"
  }
 },
 "nbformat": 4,
 "nbformat_minor": 5
}
