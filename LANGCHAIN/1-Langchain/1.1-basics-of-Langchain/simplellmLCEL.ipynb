{
 "cells": [
  {
   "cell_type": "markdown",
   "id": "ca640d7a",
   "metadata": {},
   "source": [
    "### Build a Simple LLM Application with LCEL\n",
    "In this quickstart we'll show you how to build a simple LLM application with LangChain. This application will translate text from English into another language. This is a relatively simple LLM application - it's just a single LLM call plus some prompting. Still, this is a great way to get started with LangChain - a lot of features can be built with just some prompting and an LLM call!\n",
    "\n",
    "After seeing this video, you'll have a high level overview of:\n",
    "\n",
    "- Using language models\n",
    "\n",
    "- Using PromptTemplates and OutputParsers\n",
    "\n",
    "- Using LangChain Expression Language (LCEL) to chain components together\n",
    "\n",
    "- Debugging and tracing your application using LangSmith\n",
    "\n",
    "- Deploying your application with LangServe"
   ]
  },
  {
   "cell_type": "code",
   "execution_count": 32,
   "id": "61dc8a82",
   "metadata": {},
   "outputs": [
    {
     "data": {
      "text/plain": [
       "'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'"
      ]
     },
     "execution_count": 32,
     "metadata": {},
     "output_type": "execute_result"
    }
   ],
   "source": [
    "### Open AI API key and open source model --> Llama3, Gemma2, mistral \n",
    "import os\n",
    "from dotenv import load_dotenv\n",
    "load_dotenv()\n",
    "\n",
    "groq_api_key=os.getenv(\"GROQ_API_KEY\")\n",
    "groq_api_key"
   ]
  },
  {
   "cell_type": "code",
   "execution_count": 33,
   "id": "461b795a",
   "metadata": {},
   "outputs": [
    {
     "data": {
      "text/plain": [
       "ChatGroq(client=<groq.resources.chat.completions.Completions object at 0x000002887B558A10>, async_client=<groq.resources.chat.completions.AsyncCompletions object at 0x000002887CD80150>, model_name='gemma2-9b-it', model_kwargs={}, groq_api_key=SecretStr('**********'))"
      ]
     },
     "execution_count": 33,
     "metadata": {},
     "output_type": "execute_result"
    }
   ],
   "source": [
    "from langchain_groq import ChatGroq\n",
    "\n",
    "model=ChatGroq(model=\"gemma2-9b-it\",groq_api_key=groq_api_key)\n",
    "model"
   ]
  },
  {
   "cell_type": "code",
   "execution_count": 34,
   "id": "e00d21d0",
   "metadata": {},
   "outputs": [],
   "source": [
    "from langchain_core.messages import HumanMessage,SystemMessage\n",
    "\n",
    "message=[\n",
    "    SystemMessage(content=\"Translate the following from English to French\"),\n",
    "    HumanMessage(content=\"Hello how are you?\")\n",
    "]"
   ]
  },
  {
   "cell_type": "code",
   "execution_count": 35,
   "id": "f5ea032e",
   "metadata": {},
   "outputs": [],
   "source": [
    "result=model.invoke(message)"
   ]
  },
  {
   "cell_type": "code",
   "execution_count": 36,
   "id": "13953633",
   "metadata": {},
   "outputs": [
    {
     "data": {
      "text/plain": [
       "AIMessage(content='The most common way to say \"Hello, how are you?\" in French is:\\n\\n**Bonjour, comment allez-vous ?** \\n\\n\\nHere\\'s a breakdown:\\n\\n* **Bonjour:** Hello\\n* **comment:** how\\n* **allez-vous:** are you (formal)\\n\\n\\nLet me know if you\\'d like to know other ways to say it!\\n', additional_kwargs={}, response_metadata={'token_usage': {'completion_tokens': 79, 'prompt_tokens': 21, 'total_tokens': 100, 'completion_time': 0.143636364, 'prompt_time': 0.001320741, 'queue_time': 0.250116549, 'total_time': 0.144957105}, 'model_name': 'gemma2-9b-it', 'system_fingerprint': 'fp_10c08bf97d', 'service_tier': 'on_demand', 'finish_reason': 'stop', 'logprobs': None}, id='run--c94a2a35-8759-404b-8a67-e04e5b2dbb08-0', usage_metadata={'input_tokens': 21, 'output_tokens': 79, 'total_tokens': 100})"
      ]
     },
     "execution_count": 36,
     "metadata": {},
     "output_type": "execute_result"
    }
   ],
   "source": [
    "result"
   ]
  },
  {
   "cell_type": "code",
   "execution_count": 37,
   "id": "33260404",
   "metadata": {},
   "outputs": [
    {
     "data": {
      "text/plain": [
       "'The most common way to say \"Hello, how are you?\" in French is:\\n\\n**Bonjour, comment allez-vous ?** \\n\\n\\nHere\\'s a breakdown:\\n\\n* **Bonjour:** Hello\\n* **comment:** how\\n* **allez-vous:** are you (formal)\\n\\n\\nLet me know if you\\'d like to know other ways to say it!\\n'"
      ]
     },
     "execution_count": 37,
     "metadata": {},
     "output_type": "execute_result"
    }
   ],
   "source": [
    "from langchain_core.output_parsers import StrOutputParser\n",
    "parser=StrOutputParser()\n",
    "parser.invoke(result)"
   ]
  },
  {
   "cell_type": "code",
   "execution_count": 38,
   "id": "a4f75592",
   "metadata": {},
   "outputs": [
    {
     "data": {
      "text/plain": [
       "'The most common way to say \"Hello, how are you?\" in French is:\\n\\n**Bonjour, comment allez-vous ?**\\n\\nHere\\'s a breakdown:\\n\\n* **Bonjour:** Hello\\n* **comment:** how\\n* **allez-vous:** are you (formal, plural) \\n\\n\\nLet me know if you\\'d like other ways to say it! \\n'"
      ]
     },
     "execution_count": 38,
     "metadata": {},
     "output_type": "execute_result"
    }
   ],
   "source": [
    "### using LCEL - chain the component\n",
    "chain= model|parser\n",
    "chain.invoke(message)"
   ]
  },
  {
   "cell_type": "code",
   "execution_count": 39,
   "id": "1e02c59f",
   "metadata": {},
   "outputs": [],
   "source": [
    "### prompt template\n",
    "from langchain_core.prompts import ChatPromptTemplate\n",
    "\n",
    "generic_template=\"Translate the following into {language}:\"\n",
    "\n",
    "prompt=ChatPromptTemplate.from_messages(\n",
    "    [(\"system\",generic_template),(\"user\",\"{text}\")]\n",
    ")"
   ]
  },
  {
   "cell_type": "code",
   "execution_count": 40,
   "id": "1b2b95c1",
   "metadata": {},
   "outputs": [],
   "source": [
    "result=prompt.invoke({\"language\":\"french\",\"text\":\"hello\"})"
   ]
  },
  {
   "cell_type": "code",
   "execution_count": 41,
   "id": "7223aa11",
   "metadata": {},
   "outputs": [
    {
     "data": {
      "text/plain": [
       "[SystemMessage(content='Translate the following into french:', additional_kwargs={}, response_metadata={}),\n",
       " HumanMessage(content='hello', additional_kwargs={}, response_metadata={})]"
      ]
     },
     "execution_count": 41,
     "metadata": {},
     "output_type": "execute_result"
    }
   ],
   "source": [
    "result.to_messages()"
   ]
  },
  {
   "cell_type": "code",
   "execution_count": 42,
   "id": "623bf704",
   "metadata": {},
   "outputs": [
    {
     "data": {
      "text/plain": [
       "'The most common way to say \"how are you\" in French is:\\n\\n**Comment allez-vous ?** (formal)\\n\\n**Comment vas-tu ?** (informal)\\n\\n\\nYou would use \"Comment allez-vous?\" with someone you don\\'t know well, someone older, or someone in a position of authority.  \"Comment vas-tu?\" is used with friends, family, and people your own age. \\n'"
      ]
     },
     "execution_count": 42,
     "metadata": {},
     "output_type": "execute_result"
    }
   ],
   "source": [
    "chain=prompt|model|parser\n",
    "chain.invoke({\"language\":\"french\",\"text\":\"how are you\"})"
   ]
  }
 ],
 "metadata": {
  "kernelspec": {
   "display_name": "venv",
   "language": "python",
   "name": "python3"
  },
  "language_info": {
   "codemirror_mode": {
    "name": "ipython",
    "version": 3
   },
   "file_extension": ".py",
   "mimetype": "text/x-python",
   "name": "python",
   "nbconvert_exporter": "python",
   "pygments_lexer": "ipython3",
   "version": "3.11.9"
  }
 },
 "nbformat": 4,
 "nbformat_minor": 5
}
