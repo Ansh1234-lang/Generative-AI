{
 "cells": [
  {
   "cell_type": "markdown",
   "id": "f90719c5",
   "metadata": {},
   "source": [
    "#### Chroma\n",
    " Chroma is a AI-Native open Source vector database focused on developer productivity and happiness. Chroma is licensed under Apache 2.0"
   ]
  },
  {
   "cell_type": "code",
   "execution_count": null,
   "id": "53196c6c",
   "metadata": {},
   "outputs": [],
   "source": [
    "### building a sample db\n",
    "from langchain_chroma import Chroma"
   ]
  },
  {
   "cell_type": "code",
   "execution_count": null,
   "id": "684dd08c",
   "metadata": {},
   "outputs": [],
   "source": [
    "from langchain_community.document_loaders import TextLoader\n",
    "from langchain_community.embeddings import OllamaEmbeddings\n",
    "from langchain_text_splitters import RecursiveCharacterTextSplitter"
   ]
  },
  {
   "cell_type": "code",
   "execution_count": null,
   "id": "c1b18ea6",
   "metadata": {},
   "outputs": [],
   "source": [
    "loader = TextLoader(\"speech.txt\")\n",
    "data = loader.load()\n",
    "data"
   ]
  },
  {
   "cell_type": "code",
   "execution_count": null,
   "metadata": {},
   "outputs": [],
   "source": [
    "# Split\n",
    "text_splitter=RecursiveCharacterTextSplitter(chunk_size=500,chunk_overlap=0)\n",
    "\n",
    "split= text_splitter.split_documents(data)\n",
    "split"
   ]
  },
  {
   "cell_type": "code",
   "execution_count": null,
   "metadata": {},
   "outputs": [],
   "source": [
    "embeddings=OllamaEmbeddings(model=\"deepseek-r1:1.5b\")\n",
    "vectordb=Chroma.from_documents(documents=split, embedding=embeddings)\n",
    "vectordb"
   ]
  },
  {
   "cell_type": "code",
   "execution_count": null,
   "id": "d82c3afe",
   "metadata": {},
   "outputs": [],
   "source": [
    "# Query it\n",
    "query = \" What does the speaker beleive is the main reason the United States should enter the war?\"\n",
    "docs= vectordb.similarity_search(query)"
   ]
  },
  {
   "cell_type": "code",
   "execution_count": null,
   "id": "3eb25109",
   "metadata": {},
   "outputs": [],
   "source": [
    "docs[0].page_content"
   ]
  },
  {
   "cell_type": "code",
   "execution_count": null,
   "id": "fb4b8170",
   "metadata": {},
   "outputs": [],
   "source": [
    "# saving to the disk\n",
    "vectordb= Chroma.from_documents(documents=split,embedding=embeddings,persist_directory=\"./chroma_db\")"
   ]
  },
  {
   "cell_type": "code",
   "execution_count": null,
   "id": "119fdf17",
   "metadata": {},
   "outputs": [],
   "source": [
    "#load from disk\n",
    "db2= Chroma(persist_directory=\"./chroma_db\",embedding_function=embeddings)\n",
    "docs= db2.similarity_search(query)\n",
    "print(docs[0].page_content)"
   ]
  },
  {
   "cell_type": "code",
   "execution_count": null,
   "metadata": {},
   "outputs": [],
   "source": [
    "# Similarity search with Scores\n",
    "docs = vectordb.similarity_search_with_score(query)\n",
    "docs"
   ]
  },
  {
   "cell_type": "code",
   "execution_count": null,
   "id": "3c11ae4d",
   "metadata": {},
   "outputs": [],
   "source": [
    "# Retriver option\n",
    "retriver=vectordb.as_retriever()\n",
    "retriver.invoke(query)[0].page_content"
   ]
  }
 ],
 "metadata": {
  "kernelspec": {
   "display_name": "venv",
   "language": "python",
   "name": "python3"
  },
  "language_info": {
   "codemirror_mode": {
    "name": "ipython",
    "version": 3
   },
   "file_extension": ".py",
   "mimetype": "text/x-python",
   "name": "python",
   "nbconvert_exporter": "python",
   "pygments_lexer": "ipython3",
   "version": "3.11.9"
  }
 },
 "nbformat": 4,
 "nbformat_minor": 5
}
