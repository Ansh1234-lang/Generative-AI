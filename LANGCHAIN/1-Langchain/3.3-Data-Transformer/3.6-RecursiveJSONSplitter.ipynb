{
 "cells": [
  {
   "cell_type": "markdown",
   "id": "c800d579",
   "metadata": {},
   "source": [
    "#### How to split JSON"
   ]
  },
  {
   "cell_type": "markdown",
   "id": "714bcee3",
   "metadata": {},
   "source": [
    "This json splitter split json data while allowing control over chunk sizes. It traverses json data depth first and build smaller json chunks. It attempts to keep nested json objets whole but will split them if needed to keep chunk between a min_chunk_size and the max_chunk_size.\n",
    "\n",
    "If the value is not a nested json, but rather"
   ]
  },
  {
   "cell_type": "code",
   "execution_count": 1,
   "id": "d303abe7",
   "metadata": {},
   "outputs": [
    {
     "data": {
      "text/plain": [
       "{'links': {'self': 'http://example.com/articles',\n",
       "  'next': 'http://example.com/articles?page[offset]=2',\n",
       "  'last': 'http://example.com/articles?page[offset]=10'},\n",
       " 'data': [{'type': 'articles',\n",
       "   'id': '1',\n",
       "   'attributes': {'title': 'JSON:API paints my bikeshed!'},\n",
       "   'relationships': {'author': {'links': {'self': 'http://example.com/articles/1/relationships/author',\n",
       "      'related': 'http://example.com/articles/1/author'},\n",
       "     'data': {'type': 'people', 'id': '9'}},\n",
       "    'comments': {'links': {'self': 'http://example.com/articles/1/relationships/comments',\n",
       "      'related': 'http://example.com/articles/1/comments'},\n",
       "     'data': [{'type': 'comments', 'id': '5'},\n",
       "      {'type': 'comments', 'id': '12'}]}},\n",
       "   'links': {'self': 'http://example.com/articles/1'}}],\n",
       " 'included': [{'type': 'people',\n",
       "   'id': '9',\n",
       "   'attributes': {'firstName': 'Dan',\n",
       "    'lastName': 'Gebhardt',\n",
       "    'twitter': 'dgeb'},\n",
       "   'links': {'self': 'http://example.com/people/9'}},\n",
       "  {'type': 'comments',\n",
       "   'id': '5',\n",
       "   'attributes': {'body': 'First!'},\n",
       "   'relationships': {'author': {'data': {'type': 'people', 'id': '2'}}},\n",
       "   'links': {'self': 'http://example.com/comments/5'}},\n",
       "  {'type': 'comments',\n",
       "   'id': '12',\n",
       "   'attributes': {'body': 'I like XML better'},\n",
       "   'relationships': {'author': {'data': {'type': 'people', 'id': '9'}}},\n",
       "   'links': {'self': 'http://example.com/comments/12'}}]}"
      ]
     },
     "execution_count": 1,
     "metadata": {},
     "output_type": "execute_result"
    }
   ],
   "source": [
    "import json\n",
    "import requests\n",
    "\n",
    "with open(\"sample.json\", \"r\", encoding=\"utf-8\") as f:\n",
    "    json_data = json.load(f)\n",
    "\n",
    "\n",
    "json_data"
   ]
  },
  {
   "cell_type": "code",
   "execution_count": 2,
   "id": "8dad6541",
   "metadata": {},
   "outputs": [],
   "source": [
    "from langchain_text_splitters import RecursiveJsonSplitter\n",
    "json_splitter=RecursiveJsonSplitter(max_chunk_size=300)\n",
    "json_chunk=json_splitter.split_json(json_data)\n"
   ]
  },
  {
   "cell_type": "code",
   "execution_count": 3,
   "id": "e214d2d7",
   "metadata": {},
   "outputs": [
    {
     "data": {
      "text/plain": [
       "[{'links': {'self': 'http://example.com/articles',\n",
       "   'next': 'http://example.com/articles?page[offset]=2',\n",
       "   'last': 'http://example.com/articles?page[offset]=10'}},\n",
       " {'data': [{'type': 'articles',\n",
       "    'id': '1',\n",
       "    'attributes': {'title': 'JSON:API paints my bikeshed!'},\n",
       "    'relationships': {'author': {'links': {'self': 'http://example.com/articles/1/relationships/author',\n",
       "       'related': 'http://example.com/articles/1/author'},\n",
       "      'data': {'type': 'people', 'id': '9'}},\n",
       "     'comments': {'links': {'self': 'http://example.com/articles/1/relationships/comments',\n",
       "       'related': 'http://example.com/articles/1/comments'},\n",
       "      'data': [{'type': 'comments', 'id': '5'},\n",
       "       {'type': 'comments', 'id': '12'}]}},\n",
       "    'links': {'self': 'http://example.com/articles/1'}}]},\n",
       " {'included': [{'type': 'people',\n",
       "    'id': '9',\n",
       "    'attributes': {'firstName': 'Dan',\n",
       "     'lastName': 'Gebhardt',\n",
       "     'twitter': 'dgeb'},\n",
       "    'links': {'self': 'http://example.com/people/9'}},\n",
       "   {'type': 'comments',\n",
       "    'id': '5',\n",
       "    'attributes': {'body': 'First!'},\n",
       "    'relationships': {'author': {'data': {'type': 'people', 'id': '2'}}},\n",
       "    'links': {'self': 'http://example.com/comments/5'}},\n",
       "   {'type': 'comments',\n",
       "    'id': '12',\n",
       "    'attributes': {'body': 'I like XML better'},\n",
       "    'relationships': {'author': {'data': {'type': 'people', 'id': '9'}}},\n",
       "    'links': {'self': 'http://example.com/comments/12'}}]}]"
      ]
     },
     "execution_count": 3,
     "metadata": {},
     "output_type": "execute_result"
    }
   ],
   "source": [
    "json_chunk"
   ]
  },
  {
   "cell_type": "code",
   "execution_count": 4,
   "id": "654eb6cb",
   "metadata": {},
   "outputs": [
    {
     "name": "stdout",
     "output_type": "stream",
     "text": [
      "{'links': {'self': 'http://example.com/articles', 'next': 'http://example.com/articles?page[offset]=2', 'last': 'http://example.com/articles?page[offset]=10'}}\n",
      "{'data': [{'type': 'articles', 'id': '1', 'attributes': {'title': 'JSON:API paints my bikeshed!'}, 'relationships': {'author': {'links': {'self': 'http://example.com/articles/1/relationships/author', 'related': 'http://example.com/articles/1/author'}, 'data': {'type': 'people', 'id': '9'}}, 'comments': {'links': {'self': 'http://example.com/articles/1/relationships/comments', 'related': 'http://example.com/articles/1/comments'}, 'data': [{'type': 'comments', 'id': '5'}, {'type': 'comments', 'id': '12'}]}}, 'links': {'self': 'http://example.com/articles/1'}}]}\n",
      "{'included': [{'type': 'people', 'id': '9', 'attributes': {'firstName': 'Dan', 'lastName': 'Gebhardt', 'twitter': 'dgeb'}, 'links': {'self': 'http://example.com/people/9'}}, {'type': 'comments', 'id': '5', 'attributes': {'body': 'First!'}, 'relationships': {'author': {'data': {'type': 'people', 'id': '2'}}}, 'links': {'self': 'http://example.com/comments/5'}}, {'type': 'comments', 'id': '12', 'attributes': {'body': 'I like XML better'}, 'relationships': {'author': {'data': {'type': 'people', 'id': '9'}}}, 'links': {'self': 'http://example.com/comments/12'}}]}\n"
     ]
    }
   ],
   "source": [
    "for chunk in json_chunk[:3]:\n",
    "    print(chunk)"
   ]
  },
  {
   "cell_type": "code",
   "execution_count": 5,
   "id": "ce7da916",
   "metadata": {},
   "outputs": [
    {
     "name": "stdout",
     "output_type": "stream",
     "text": [
      "page_content='{\"links\": {\"self\": \"http://example.com/articles\", \"next\": \"http://example.com/articles?page[offset]=2\", \"last\": \"http://example.com/articles?page[offset]=10\"}}'\n",
      "page_content='{\"data\": [{\"type\": \"articles\", \"id\": \"1\", \"attributes\": {\"title\": \"JSON:API paints my bikeshed!\"}, \"relationships\": {\"author\": {\"links\": {\"self\": \"http://example.com/articles/1/relationships/author\", \"related\": \"http://example.com/articles/1/author\"}, \"data\": {\"type\": \"people\", \"id\": \"9\"}}, \"comments\": {\"links\": {\"self\": \"http://example.com/articles/1/relationships/comments\", \"related\": \"http://example.com/articles/1/comments\"}, \"data\": [{\"type\": \"comments\", \"id\": \"5\"}, {\"type\": \"comments\", \"id\": \"12\"}]}}, \"links\": {\"self\": \"http://example.com/articles/1\"}}]}'\n",
      "page_content='{\"included\": [{\"type\": \"people\", \"id\": \"9\", \"attributes\": {\"firstName\": \"Dan\", \"lastName\": \"Gebhardt\", \"twitter\": \"dgeb\"}, \"links\": {\"self\": \"http://example.com/people/9\"}}, {\"type\": \"comments\", \"id\": \"5\", \"attributes\": {\"body\": \"First!\"}, \"relationships\": {\"author\": {\"data\": {\"type\": \"people\", \"id\": \"2\"}}}, \"links\": {\"self\": \"http://example.com/comments/5\"}}, {\"type\": \"comments\", \"id\": \"12\", \"attributes\": {\"body\": \"I like XML better\"}, \"relationships\": {\"author\": {\"data\": {\"type\": \"people\", \"id\": \"9\"}}}, \"links\": {\"self\": \"http://example.com/comments/12\"}}]}'\n"
     ]
    }
   ],
   "source": [
    "## the splitter can also output document\n",
    "docs = json_splitter.create_documents(texts=[json_data])\n",
    "for doc in docs[:3]:\n",
    "    print(doc)"
   ]
  },
  {
   "cell_type": "code",
   "execution_count": 6,
   "id": "85c03049",
   "metadata": {},
   "outputs": [
    {
     "name": "stdout",
     "output_type": "stream",
     "text": [
      "{\"links\": {\"self\": \"http://example.com/articles\", \"next\": \"http://example.com/articles?page[offset]=2\", \"last\": \"http://example.com/articles?page[offset]=10\"}}\n",
      "{\"data\": [{\"type\": \"articles\", \"id\": \"1\", \"attributes\": {\"title\": \"JSON:API paints my bikeshed!\"}, \"relationships\": {\"author\": {\"links\": {\"self\": \"http://example.com/articles/1/relationships/author\", \"related\": \"http://example.com/articles/1/author\"}, \"data\": {\"type\": \"people\", \"id\": \"9\"}}, \"comments\": {\"links\": {\"self\": \"http://example.com/articles/1/relationships/comments\", \"related\": \"http://example.com/articles/1/comments\"}, \"data\": [{\"type\": \"comments\", \"id\": \"5\"}, {\"type\": \"comments\", \"id\": \"12\"}]}}, \"links\": {\"self\": \"http://example.com/articles/1\"}}]}\n"
     ]
    }
   ],
   "source": [
    "texts=json_splitter.split_text(json_data)\n",
    "print(texts[0])\n",
    "print(texts[1])\n"
   ]
  }
 ],
 "metadata": {
  "kernelspec": {
   "display_name": "venv",
   "language": "python",
   "name": "python3"
  },
  "language_info": {
   "codemirror_mode": {
    "name": "ipython",
    "version": 3
   },
   "file_extension": ".py",
   "mimetype": "text/x-python",
   "name": "python",
   "nbconvert_exporter": "python",
   "pygments_lexer": "ipython3",
   "version": "3.11.9"
  }
 },
 "nbformat": 4,
 "nbformat_minor": 5
}
