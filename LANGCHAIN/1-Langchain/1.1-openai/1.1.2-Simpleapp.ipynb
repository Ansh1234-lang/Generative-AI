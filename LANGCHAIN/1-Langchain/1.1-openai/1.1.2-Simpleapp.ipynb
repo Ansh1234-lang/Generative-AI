{
 "cells": [
  {
   "cell_type": "markdown",
   "id": "05ce7534",
   "metadata": {},
   "source": [
    "#### Simple Gen App Using LangChain"
   ]
  },
  {
   "cell_type": "code",
   "execution_count": 3,
   "id": "83a929aa",
   "metadata": {},
   "outputs": [],
   "source": [
    "import os\n",
    "from dotenv import load_dotenv\n",
    "load_dotenv()\n",
    "\n",
    "# os.environ['OPENAI_API_KEY']=os.getenv(\"OPENAI_API_KEY\")\n",
    "## Langsmith Tracking\n",
    "os.environ[\"LANGCHAIN_API_KEY\"]=os.getenv(\"LANGCHAIN_API_KEY\")\n",
    "os.environ[\"LANGCHAIN_TRACKING_V2\"]=\"true\"\n",
    "os.environ[\"LANGCHAIN_PROJECT\"]=os.getenv(\"LANGCHAIN_PROJECT\")"
   ]
  },
  {
   "cell_type": "code",
   "execution_count": 4,
   "id": "a13eb176",
   "metadata": {},
   "outputs": [
    {
     "name": "stderr",
     "output_type": "stream",
     "text": [
      "USER_AGENT environment variable not set, consider setting it to identify your requests.\n"
     ]
    }
   ],
   "source": [
    "# Data Integration -- from the website we need to scrape the data\n",
    "from langchain_community.document_loaders import WebBaseLoader\n"
   ]
  },
  {
   "cell_type": "code",
   "execution_count": 5,
   "id": "bacaa14a",
   "metadata": {},
   "outputs": [
    {
     "data": {
      "text/plain": [
       "<langchain_community.document_loaders.web_base.WebBaseLoader at 0x17dfbb58c50>"
      ]
     },
     "execution_count": 5,
     "metadata": {},
     "output_type": "execute_result"
    }
   ],
   "source": [
    "loader=WebBaseLoader(\"https://bollyflix.faith/\")\n",
    "loader"
   ]
  },
  {
   "cell_type": "code",
   "execution_count": 6,
   "id": "5975e753",
   "metadata": {},
   "outputs": [
    {
     "data": {
      "text/plain": [
       "[Document(metadata={'source': 'https://bollyflix.faith/', 'title': 'BollyFlix | Official Site, Bolly Flix, 300MB Movies, 9xMovies, BollyFlix.Net, BollyFlix.com', 'description': 'Download Latest Bollywood, Hollywood, Dual Audio Hindi Dubbed, 300MB Movies Movies || Google Drive Direct Download Links || BollyFlix, bollyflix, 720p BluRay Movies.', 'language': 'en-US'}, page_content='\\n\\n\\n\\n\\n\\n\\n\\n\\n\\n\\n\\n\\n\\n\\n\\n\\n\\n\\n\\n\\n\\n\\n\\n\\n\\n\\n\\n\\nBollyFlix | Official Site, Bolly Flix, 300MB Movies, 9xMovies, BollyFlix.Net, BollyFlix.com\\n\\n\\n\\n\\n\\n\\n\\n\\n\\n\\n\\n\\n\\n\\n\\n\\n\\n\\n\\n\\n\\n\\n\\n\\n\\n\\n\\n\\n\\n\\n\\n\\n\\n\\n\\n\\n\\n\\n\\n\\n\\n\\n\\n\\n\\n\\n\\n \\nBollyflix\\n\\n\\n\\n\\n\\n\\n\\n\\n\\n\\n\\n\\n\\n\\n\\n\\n\\n\\n\\n\\n\\n\\n\\n\\n\\n\\n\\n\\n\\n\\nMenu\\n\\n🏠 HOME\\n🎬 MOVIES\\n\\nSOUTH HINDI DUBBED\\nADULT MOVIES\\nBOLLYWOOD\\nDUAL AUDIO\\nHINDI DUBBED\\nHOLLYWOOD\\nMULTI AUDIO\\nPUNJABI\\nBENGALI\\n\\n\\n🔗 GENRE\\n\\nACTION\\nADVENTURE\\nANIMATION\\nCOMEDY\\nCRIME\\nDRAMA\\nFANTASY\\nHISTORICAL\\nHORROR\\nMYSTERY\\nPOLITICAL\\nROMANCE\\nSCI-FI\\nTHRILLER\\n\\n\\n📅 YEAR\\n\\n2025\\n2024\\n2023\\n2022\\n2021\\n2016-2020\\n\\n2016\\n2017\\n2018\\n2019\\n2020\\n\\n\\n2011-2015\\n2006-2010\\n2001-2005\\n1880-2000\\n\\n\\n☠️ QUALITY\\n\\n480p MOVIES\\n720p MOVIES\\n1080p MOVIES\\n300MB MOVIES\\n500MB MOVIES\\n700MB MOVIES\\n900MB MOVIES\\n1GB MOVIES\\n\\n\\n📺 TV SHOWS\\n🌐 WEB SERIES\\n\\nNETFLIX\\nAMAZON PRIME VIDEO\\nKOREAN DRAMA\\nHINDI DUBBED SERIES\\nHOTSTAR\\nHULU\\nMX PLAYER ORIGINALS\\nVOOT SELECT\\nONGOING SERIES\\n\\n\\nANIME\\n \\n\\n\\n\\n\\n\\n\\n\\n\\n\\n\\n\\n Join Telegram\\n [18+] Movies\\nBollywood\\nHollywood\\nSouth (Hindi Dubbed)\\nDual Audio\\nWEB Series\\nKorean Drama\\n\\n\\n\\n ×  Our New Domain is BollyFlix.To ||  Please Update Your Bookmark  \\n\\n\\n\\n\\n\\n\\n \\n\\n\\nDownload Peacemaker (Season 1 – 2) Dual Audio [Hindi-English] WEB Series 480p | 720p | 1080p | 2160p BluRay ESub [S2E02 Added] \\n\\n\\n\\n \\n\\n\\nDownload Coolie (2025) Hindi Movie 480p | 720p | 1080p HDTC \\n\\n\\n\\n \\n\\n\\nDownload War 2 (2025) Hindi Movie 480p | 720p | 1080p Pre-HDRip \\n\\n\\n\\n \\n\\n\\nDownload Drop Dead Gorgeous (1999) English Movie 480p | 720p | 1080p BluRay ESub \\n\\n\\n\\n \\n\\n\\nDownload A Higher Law (2021) English Movie 480p | 720p | 1080p WEB-DL ESub \\n\\n\\n\\n \\n\\n\\nDownload I Was Reincarnated as the 7th Prince So I Can Take My Time Perfecting My Magical Ability (Season 1-2) Multi Audio [Hindi-English-Japanese] Anime Series 480p | 720p | 1080p WEB-DL ESub [S02E03 Added] \\n\\n\\n\\n \\n\\n\\nDownload Dekin no Mogura (Season 1) Dual Audio {Hindi-Japanese} Anime Series 480p | 720p | 1080p Web-DL ESub [S01E09 Added] \\n\\n\\n\\n \\n\\n\\nDownload My Dress-Up Darling (Season 1-2) Dual Audio {Hindi-English-Japanese} WEB Series 480p | 720p | 1080p WEB-DL ESub [S02E06 Added] \\n\\n\\n\\n \\n\\n\\nDownload Vash Level 2 (2025) Hindi Movie 480p | 720p | 1080p HDTC \\n\\n\\n\\n \\n\\n\\nDownload Kaiju No. 8 (Season 1-2) Multi Audio [Hindi-English-Japanese] Anime Series 480p | 720p | 1080p WEB-DL MSubs [S02E07 Added] \\n\\n\\n\\n \\n\\n\\nDownload Param Sundari (2025) Hindi Movie 480p | 720p | 1080p HDTC \\n\\n\\n\\n \\n\\n\\nDownload Crime + Punishment in Suburbia (2000) English Movie 480p | 720p | 1080p BluRay ESub \\n\\n\\n\\n \\n\\n\\nDownload Cockneys vs Zombies (2012) Dual Audio [Hindi-English] Movie 480p | 720p | 1080p BluRay ESub \\n\\n\\n\\n \\n\\n\\nDownload CCTV (2021) Dual Audio [Hindi-Korean] Movie 480p | 720p | 1080p WEB-DL ESub \\n\\n\\n\\n \\n\\n\\nDownload Blackjack (1998) REMASTERED UNCUT Dual Audio [Hindi-English] Movie 480p | 720p | 1080p BluRay ESub \\n\\n\\n\\n \\n\\n\\nDownload Abandoned Man (2025) Dual Audio [Hindi-Turkish] Movie 480p | 720p | 1080p WEB-DL MSubs \\n\\n\\n\\n \\n\\n\\nDownload Two Graves (Season 1) Multi Audio [Hindi-English-Spanish] WEB Series 480p | 720p | 1080p WEB-DL MSubs \\n\\n\\n\\n \\n\\n\\nDownload Dr. Stone (Season 1-4) Multi Audio [Hindi-English-Japanese] Anime Series 480p | 720p | 1080p WEB-DL MSubs [S04E20 Added] \\n\\n\\n\\n \\n\\n\\nDownload Lord of the Mysteries (Season 1) Dual Audio {Hindi-Chinese} Anime Series 480p | 720p | 1080p Web-DL ESub [S01E08 Added] \\n\\n\\n\\n \\n\\n\\nDownload Zebra (2024) Dual Audio [Hindi-Telugu] Movie 480p | 720p | 1080p WEB-DL ESub \\n\\n\\n\\n \\n\\n\\nDownload Vunnadhi Okate Zindagi (2017) Dual Audio [Hindi-Telugu] Movie 480p | 720p | 1080p WEB-DL ESub \\n\\n\\n\\n \\n\\n\\nDownload Vanangaan (2025) Dual Audio [Hindi-Tamil] Movie 480p | 720p | 1080p WEB-DL ESub \\n \\n\\nPosts pagination\\n1\\n2\\n3\\n4\\n5\\n6\\n…\\n762\\nNext\\n \\n\\n\\n\\n\\n\\n\\n\\n\\nBollyFlix Copyright © 2025.\\n\\n\\n\\n\\n\\n\\nDMCA\\nRequest\\nContact\\nCredits\\nHow to DL\\nSearch v2\\n \\n\\n\\n\\n\\n\\n\\n\\n\\n\\n\\n\\n\\n\\n\\n\\n\\n\\n\\n×\\nFile not uploaded yet.\\n\\n\\n\\n\\n\\n\\n\\n\\n\\n\\n\\n\\n\\n\\n\\n\\n\\n\\n\\n\\n\\n\\n\\n\\n\\n\\n\\n\\n\\n\\n\\n\\n\\n\\n\\n\\n\\n\\n Insert/edit link\\n\\n\\t\\t\\tClose\\t\\t\\n\\n\\nEnter the destination URL\\n\\nURL\\n\\n\\n\\nLink Text\\n\\n\\n\\n\\n Open link in a new tab\\n\\n\\nOr link to existing content\\n\\n\\n\\nSearch\\n\\n\\n\\n\\n\\n\\n\\n\\n\\n\\n\\n\\nNo search term specified. Showing recent items.\\n\\n\\t\\t\\t\\t\\t\\t\\tSearch or use up and down arrow keys to select an item.\\t\\t\\t\\t\\t\\t\\n\\n\\n\\n\\n\\n\\n\\n\\n\\n\\nCancel\\n\\n\\n\\n\\n\\n\\n\\n\\n\\n\\n')]"
      ]
     },
     "execution_count": 6,
     "metadata": {},
     "output_type": "execute_result"
    }
   ],
   "source": [
    "docs=loader.load()\n",
    "docs"
   ]
  },
  {
   "cell_type": "code",
   "execution_count": 7,
   "id": "2981224b",
   "metadata": {},
   "outputs": [],
   "source": [
    "### load data --> docs --> divide our text into chunks --> vectors --> vector embeddings --> vector storeDB\n",
    "from langchain_text_splitters import RecursiveCharacterTextSplitter\n",
    "\n",
    "text_splitter=RecursiveCharacterTextSplitter(chunk_size=1000,chunk_overlap=200)\n",
    "documents=text_splitter.split_documents(docs)"
   ]
  },
  {
   "cell_type": "code",
   "execution_count": 8,
   "id": "d8490935",
   "metadata": {},
   "outputs": [
    {
     "data": {
      "text/plain": [
       "[Document(metadata={'source': 'https://bollyflix.faith/', 'title': 'BollyFlix | Official Site, Bolly Flix, 300MB Movies, 9xMovies, BollyFlix.Net, BollyFlix.com', 'description': 'Download Latest Bollywood, Hollywood, Dual Audio Hindi Dubbed, 300MB Movies Movies || Google Drive Direct Download Links || BollyFlix, bollyflix, 720p BluRay Movies.', 'language': 'en-US'}, page_content='BollyFlix | Official Site, Bolly Flix, 300MB Movies, 9xMovies, BollyFlix.Net, BollyFlix.com\\n\\n\\n\\n\\n\\n\\n\\n\\n\\n\\n\\n\\n\\n\\n\\n\\n\\n\\n\\n\\n\\n\\n\\n\\n\\n\\n\\n\\n\\n\\n\\n\\n\\n\\n\\n\\n\\n\\n\\n\\n\\n\\n\\n\\n\\n\\n\\n \\nBollyflix\\n\\n\\n\\n\\n\\n\\n\\n\\n\\n\\n\\n\\n\\n\\n\\n\\n\\n\\n\\n\\n\\n\\n\\n\\n\\n\\n\\n\\n\\n\\nMenu\\n\\n🏠 HOME\\n🎬 MOVIES\\n\\nSOUTH HINDI DUBBED\\nADULT MOVIES\\nBOLLYWOOD\\nDUAL AUDIO\\nHINDI DUBBED\\nHOLLYWOOD\\nMULTI AUDIO\\nPUNJABI\\nBENGALI\\n\\n\\n🔗 GENRE\\n\\nACTION\\nADVENTURE\\nANIMATION\\nCOMEDY\\nCRIME\\nDRAMA\\nFANTASY\\nHISTORICAL\\nHORROR\\nMYSTERY\\nPOLITICAL\\nROMANCE\\nSCI-FI\\nTHRILLER\\n\\n\\n📅 YEAR\\n\\n2025\\n2024\\n2023\\n2022\\n2021\\n2016-2020\\n\\n2016\\n2017\\n2018\\n2019\\n2020\\n\\n\\n2011-2015\\n2006-2010\\n2001-2005\\n1880-2000\\n\\n\\n☠️ QUALITY\\n\\n480p MOVIES\\n720p MOVIES\\n1080p MOVIES\\n300MB MOVIES\\n500MB MOVIES\\n700MB MOVIES\\n900MB MOVIES\\n1GB MOVIES\\n\\n\\n📺 TV SHOWS\\n🌐 WEB SERIES\\n\\nNETFLIX\\nAMAZON PRIME VIDEO\\nKOREAN DRAMA\\nHINDI DUBBED SERIES\\nHOTSTAR\\nHULU\\nMX PLAYER ORIGINALS\\nVOOT SELECT\\nONGOING SERIES\\n\\n\\nANIME\\n \\n\\n\\n\\n\\n\\n\\n\\n\\n\\n\\n\\n Join Telegram\\n [18+] Movies\\nBollywood\\nHollywood\\nSouth (Hindi Dubbed)\\nDual Audio\\nWEB Series\\nKorean Drama'),\n",
       " Document(metadata={'source': 'https://bollyflix.faith/', 'title': 'BollyFlix | Official Site, Bolly Flix, 300MB Movies, 9xMovies, BollyFlix.Net, BollyFlix.com', 'description': 'Download Latest Bollywood, Hollywood, Dual Audio Hindi Dubbed, 300MB Movies Movies || Google Drive Direct Download Links || BollyFlix, bollyflix, 720p BluRay Movies.', 'language': 'en-US'}, page_content='ANIME\\n \\n\\n\\n\\n\\n\\n\\n\\n\\n\\n\\n\\n Join Telegram\\n [18+] Movies\\nBollywood\\nHollywood\\nSouth (Hindi Dubbed)\\nDual Audio\\nWEB Series\\nKorean Drama\\n\\n\\n\\n ×  Our New Domain is BollyFlix.To ||  Please Update Your Bookmark  \\n\\n\\n\\n\\n\\n\\n \\n\\n\\nDownload Peacemaker (Season 1 – 2) Dual Audio [Hindi-English] WEB Series 480p | 720p | 1080p | 2160p BluRay ESub [S2E02 Added] \\n\\n\\n\\n \\n\\n\\nDownload Coolie (2025) Hindi Movie 480p | 720p | 1080p HDTC \\n\\n\\n\\n \\n\\n\\nDownload War 2 (2025) Hindi Movie 480p | 720p | 1080p Pre-HDRip \\n\\n\\n\\n \\n\\n\\nDownload Drop Dead Gorgeous (1999) English Movie 480p | 720p | 1080p BluRay ESub \\n\\n\\n\\n \\n\\n\\nDownload A Higher Law (2021) English Movie 480p | 720p | 1080p WEB-DL ESub \\n\\n\\n\\n \\n\\n\\nDownload I Was Reincarnated as the 7th Prince So I Can Take My Time Perfecting My Magical Ability (Season 1-2) Multi Audio [Hindi-English-Japanese] Anime Series 480p | 720p | 1080p WEB-DL ESub [S02E03 Added] \\n\\n\\n\\n \\n\\n\\nDownload Dekin no Mogura (Season 1) Dual Audio {Hindi-Japanese} Anime Series 480p | 720p | 1080p Web-DL ESub [S01E09 Added]'),\n",
       " Document(metadata={'source': 'https://bollyflix.faith/', 'title': 'BollyFlix | Official Site, Bolly Flix, 300MB Movies, 9xMovies, BollyFlix.Net, BollyFlix.com', 'description': 'Download Latest Bollywood, Hollywood, Dual Audio Hindi Dubbed, 300MB Movies Movies || Google Drive Direct Download Links || BollyFlix, bollyflix, 720p BluRay Movies.', 'language': 'en-US'}, page_content='Download Dekin no Mogura (Season 1) Dual Audio {Hindi-Japanese} Anime Series 480p | 720p | 1080p Web-DL ESub [S01E09 Added] \\n\\n\\n\\n \\n\\n\\nDownload My Dress-Up Darling (Season 1-2) Dual Audio {Hindi-English-Japanese} WEB Series 480p | 720p | 1080p WEB-DL ESub [S02E06 Added] \\n\\n\\n\\n \\n\\n\\nDownload Vash Level 2 (2025) Hindi Movie 480p | 720p | 1080p HDTC \\n\\n\\n\\n \\n\\n\\nDownload Kaiju No. 8 (Season 1-2) Multi Audio [Hindi-English-Japanese] Anime Series 480p | 720p | 1080p WEB-DL MSubs [S02E07 Added] \\n\\n\\n\\n \\n\\n\\nDownload Param Sundari (2025) Hindi Movie 480p | 720p | 1080p HDTC \\n\\n\\n\\n \\n\\n\\nDownload Crime + Punishment in Suburbia (2000) English Movie 480p | 720p | 1080p BluRay ESub \\n\\n\\n\\n \\n\\n\\nDownload Cockneys vs Zombies (2012) Dual Audio [Hindi-English] Movie 480p | 720p | 1080p BluRay ESub \\n\\n\\n\\n \\n\\n\\nDownload CCTV (2021) Dual Audio [Hindi-Korean] Movie 480p | 720p | 1080p WEB-DL ESub \\n\\n\\n\\n \\n\\n\\nDownload Blackjack (1998) REMASTERED UNCUT Dual Audio [Hindi-English] Movie 480p | 720p | 1080p BluRay ESub'),\n",
       " Document(metadata={'source': 'https://bollyflix.faith/', 'title': 'BollyFlix | Official Site, Bolly Flix, 300MB Movies, 9xMovies, BollyFlix.Net, BollyFlix.com', 'description': 'Download Latest Bollywood, Hollywood, Dual Audio Hindi Dubbed, 300MB Movies Movies || Google Drive Direct Download Links || BollyFlix, bollyflix, 720p BluRay Movies.', 'language': 'en-US'}, page_content='Download Blackjack (1998) REMASTERED UNCUT Dual Audio [Hindi-English] Movie 480p | 720p | 1080p BluRay ESub \\n\\n\\n\\n \\n\\n\\nDownload Abandoned Man (2025) Dual Audio [Hindi-Turkish] Movie 480p | 720p | 1080p WEB-DL MSubs \\n\\n\\n\\n \\n\\n\\nDownload Two Graves (Season 1) Multi Audio [Hindi-English-Spanish] WEB Series 480p | 720p | 1080p WEB-DL MSubs \\n\\n\\n\\n \\n\\n\\nDownload Dr. Stone (Season 1-4) Multi Audio [Hindi-English-Japanese] Anime Series 480p | 720p | 1080p WEB-DL MSubs [S04E20 Added] \\n\\n\\n\\n \\n\\n\\nDownload Lord of the Mysteries (Season 1) Dual Audio {Hindi-Chinese} Anime Series 480p | 720p | 1080p Web-DL ESub [S01E08 Added] \\n\\n\\n\\n \\n\\n\\nDownload Zebra (2024) Dual Audio [Hindi-Telugu] Movie 480p | 720p | 1080p WEB-DL ESub \\n\\n\\n\\n \\n\\n\\nDownload Vunnadhi Okate Zindagi (2017) Dual Audio [Hindi-Telugu] Movie 480p | 720p | 1080p WEB-DL ESub \\n\\n\\n\\n \\n\\n\\nDownload Vanangaan (2025) Dual Audio [Hindi-Tamil] Movie 480p | 720p | 1080p WEB-DL ESub \\n \\n\\nPosts pagination\\n1\\n2\\n3\\n4\\n5\\n6\\n…\\n762\\nNext\\n \\n\\n\\n\\n\\n\\n\\n\\n\\nBollyFlix Copyright © 2025.'),\n",
       " Document(metadata={'source': 'https://bollyflix.faith/', 'title': 'BollyFlix | Official Site, Bolly Flix, 300MB Movies, 9xMovies, BollyFlix.Net, BollyFlix.com', 'description': 'Download Latest Bollywood, Hollywood, Dual Audio Hindi Dubbed, 300MB Movies Movies || Google Drive Direct Download Links || BollyFlix, bollyflix, 720p BluRay Movies.', 'language': 'en-US'}, page_content='Download Vanangaan (2025) Dual Audio [Hindi-Tamil] Movie 480p | 720p | 1080p WEB-DL ESub \\n \\n\\nPosts pagination\\n1\\n2\\n3\\n4\\n5\\n6\\n…\\n762\\nNext\\n \\n\\n\\n\\n\\n\\n\\n\\n\\nBollyFlix Copyright © 2025.\\n\\n\\n\\n\\n\\n\\nDMCA\\nRequest\\nContact\\nCredits\\nHow to DL\\nSearch v2\\n \\n\\n\\n\\n\\n\\n\\n\\n\\n\\n\\n\\n\\n\\n\\n\\n\\n\\n\\n×\\nFile not uploaded yet.\\n\\n\\n\\n\\n\\n\\n\\n\\n\\n\\n\\n\\n\\n\\n\\n\\n\\n\\n\\n\\n\\n\\n\\n\\n\\n\\n\\n\\n\\n\\n\\n\\n\\n\\n\\n\\n\\n\\n Insert/edit link\\n\\n\\t\\t\\tClose\\t\\t\\n\\n\\nEnter the destination URL\\n\\nURL\\n\\n\\n\\nLink Text\\n\\n\\n\\n\\n Open link in a new tab\\n\\n\\nOr link to existing content\\n\\n\\n\\nSearch\\n\\n\\n\\n\\n\\n\\n\\n\\n\\n\\n\\n\\nNo search term specified. Showing recent items.\\n\\n\\t\\t\\t\\t\\t\\t\\tSearch or use up and down arrow keys to select an item.\\t\\t\\t\\t\\t\\t\\n\\n\\n\\n\\n\\n\\n\\n\\n\\n\\nCancel')]"
      ]
     },
     "execution_count": 8,
     "metadata": {},
     "output_type": "execute_result"
    }
   ],
   "source": [
    "documents"
   ]
  },
  {
   "cell_type": "code",
   "execution_count": 9,
   "id": "600639ce",
   "metadata": {},
   "outputs": [
    {
     "name": "stderr",
     "output_type": "stream",
     "text": [
      "C:\\Users\\HP\\AppData\\Local\\Temp\\ipykernel_6508\\1357735585.py:2: LangChainDeprecationWarning: The class `OllamaEmbeddings` was deprecated in LangChain 0.3.1 and will be removed in 1.0.0. An updated version of the class exists in the :class:`~langchain-ollama package and should be used instead. To use it run `pip install -U :class:`~langchain-ollama` and import as `from :class:`~langchain_ollama import OllamaEmbeddings``.\n",
      "  embeddings=OllamaEmbeddings(model=\"deepseek-r1:1.5b\")\n"
     ]
    }
   ],
   "source": [
    "from langchain_community.embeddings import OllamaEmbeddings\n",
    "embeddings=OllamaEmbeddings(model=\"deepseek-r1:1.5b\")\n"
   ]
  },
  {
   "cell_type": "code",
   "execution_count": 10,
   "id": "ebc5eb61",
   "metadata": {},
   "outputs": [],
   "source": [
    "# # ...existing code...\n",
    "# from langchain_community.embeddings import OllamaEmbeddings\n",
    "\n",
    "# # Use a free, local embedding model (e.g., \"phi\" or \"mistral\")\n",
    "# embeddings = OllamaEmbeddings(model=\"phi\")  # or \"mistral\", \"llama2:7b\", etc.\n",
    "\n",
    "# from langchain_community.vectorstores import FAISS\n",
    "# vectorstoredb = FAISS.from_documents(documents, embeddings)\n",
    "# # ...existing code..."
   ]
  },
  {
   "cell_type": "code",
   "execution_count": 11,
   "id": "0bcef199",
   "metadata": {},
   "outputs": [],
   "source": [
    "from langchain_community.vectorstores import FAISS\n",
    "vectorstoredb=FAISS.from_documents(documents,embeddings)"
   ]
  },
  {
   "cell_type": "code",
   "execution_count": 12,
   "id": "f893a527",
   "metadata": {},
   "outputs": [
    {
     "data": {
      "text/plain": [
       "<langchain_community.vectorstores.faiss.FAISS at 0x17dfc94b3d0>"
      ]
     },
     "execution_count": 12,
     "metadata": {},
     "output_type": "execute_result"
    }
   ],
   "source": [
    "vectorstoredb"
   ]
  },
  {
   "cell_type": "code",
   "execution_count": 13,
   "id": "3f9d5313",
   "metadata": {},
   "outputs": [
    {
     "data": {
      "text/plain": [
       "'Download Blackjack (1998) REMASTERED UNCUT Dual Audio [Hindi-English] Movie 480p | 720p | 1080p BluRay ESub \\n\\n\\n\\n \\n\\n\\nDownload Abandoned Man (2025) Dual Audio [Hindi-Turkish] Movie 480p | 720p | 1080p WEB-DL MSubs \\n\\n\\n\\n \\n\\n\\nDownload Two Graves (Season 1) Multi Audio [Hindi-English-Spanish] WEB Series 480p | 720p | 1080p WEB-DL MSubs \\n\\n\\n\\n \\n\\n\\nDownload Dr. Stone (Season 1-4) Multi Audio [Hindi-English-Japanese] Anime Series 480p | 720p | 1080p WEB-DL MSubs [S04E20 Added] \\n\\n\\n\\n \\n\\n\\nDownload Lord of the Mysteries (Season 1) Dual Audio {Hindi-Chinese} Anime Series 480p | 720p | 1080p Web-DL ESub [S01E08 Added] \\n\\n\\n\\n \\n\\n\\nDownload Zebra (2024) Dual Audio [Hindi-Telugu] Movie 480p | 720p | 1080p WEB-DL ESub \\n\\n\\n\\n \\n\\n\\nDownload Vunnadhi Okate Zindagi (2017) Dual Audio [Hindi-Telugu] Movie 480p | 720p | 1080p WEB-DL ESub \\n\\n\\n\\n \\n\\n\\nDownload Vanangaan (2025) Dual Audio [Hindi-Tamil] Movie 480p | 720p | 1080p WEB-DL ESub \\n \\n\\nPosts pagination\\n1\\n2\\n3\\n4\\n5\\n6\\n…\\n762\\nNext\\n \\n\\n\\n\\n\\n\\n\\n\\n\\nBollyFlix Copyright © 2025.'"
      ]
     },
     "execution_count": 13,
     "metadata": {},
     "output_type": "execute_result"
    }
   ],
   "source": [
    "# write a query from the website\n",
    "query=\"download Coolie (2025) Hindi Movie available in 1080p, 720p & 480p Qualities For Your Mobile/tablet/Computer. This movie is based on Action.\"\n",
    "result=vectorstoredb.similarity_search(query)\n",
    "result[0].page_content"
   ]
  },
  {
   "cell_type": "code",
   "execution_count": 14,
   "id": "274de2fb",
   "metadata": {},
   "outputs": [
    {
     "name": "stderr",
     "output_type": "stream",
     "text": [
      "C:\\Users\\HP\\AppData\\Local\\Temp\\ipykernel_6508\\1077620050.py:3: LangChainDeprecationWarning: The class `ChatOllama` was deprecated in LangChain 0.3.1 and will be removed in 1.0.0. An updated version of the class exists in the :class:`~langchain-ollama package and should be used instead. To use it run `pip install -U :class:`~langchain-ollama` and import as `from :class:`~langchain_ollama import ChatOllama``.\n",
      "  llm = ChatOllama(model=\"deepseek-r1:1.5b\")\n"
     ]
    }
   ],
   "source": [
    "from langchain_community.chat_models import ChatOllama\n",
    "\n",
    "llm = ChatOllama(model=\"deepseek-r1:1.5b\")"
   ]
  },
  {
   "cell_type": "code",
   "execution_count": 15,
   "id": "5c65f21e",
   "metadata": {},
   "outputs": [],
   "source": [
    "## retrival chain, documents chain\n",
    "\n",
    "from langchain.chains.combine_documents import create_stuff_documents_chain\n",
    "from langchain_core.prompts import ChatPromptTemplate\n",
    "\n",
    "prompt=ChatPromptTemplate.from_template(\n",
    "    \"\"\"\n",
    "    Answer the following question based only on the provided context:\n",
    "    <context>\n",
    "    {context}\n",
    "    </context>\n",
    "    \n",
    "    \"\"\"\n",
    ")\n",
    "\n",
    "document_chain=create_stuff_documents_chain(llm,prompt)\n"
   ]
  },
  {
   "cell_type": "code",
   "execution_count": 16,
   "id": "929e4bc5",
   "metadata": {},
   "outputs": [
    {
     "data": {
      "text/plain": [
       "RunnableBinding(bound=RunnableBinding(bound=RunnableAssign(mapper={\n",
       "  context: RunnableLambda(format_docs)\n",
       "}), kwargs={}, config={'run_name': 'format_inputs'}, config_factories=[])\n",
       "| ChatPromptTemplate(input_variables=['context'], input_types={}, partial_variables={}, messages=[HumanMessagePromptTemplate(prompt=PromptTemplate(input_variables=['context'], input_types={}, partial_variables={}, template='\\n    Answer the following question based only on the provided context:\\n    <context>\\n    {context}\\n    </context>\\n\\n    '), additional_kwargs={})])\n",
       "| ChatOllama(model='deepseek-r1:1.5b')\n",
       "| StrOutputParser(), kwargs={}, config={'run_name': 'stuff_documents_chain'}, config_factories=[])"
      ]
     },
     "execution_count": 16,
     "metadata": {},
     "output_type": "execute_result"
    }
   ],
   "source": [
    "document_chain"
   ]
  },
  {
   "cell_type": "code",
   "execution_count": 17,
   "id": "8f10a0c1",
   "metadata": {},
   "outputs": [
    {
     "data": {
      "text/plain": [
       "'<think>\\nOkay, I need to answer a question based on the provided context about a movie called \"Coolie (2025)\". The user\\'s query is in the form of a fill-in-the-blank like format: \"Download Coolie (2025) Hindi Movie 480p | 720p | 1080p HDTC 1 week ago✅...\". So, I should extract the relevant details from the context.\\n\\nLooking at the context, it mentions that the movie is available in 480p, 720p, and 1080p for various devices with HDTC. The user probably wants to know which formats are supported, maybe to download or stream the movie on their device.\\n\\nI\\'ll structure the answer by listing each format followed by its size and whether it\\'s HDTC. That should help anyone who needs to access the movie on different screens.\\n</think>\\n\\nThe context indicates that the movie \"Coolie (2025)\" is available in 480p, 720p, and 1080p resolutions. Since the movie is described as based on Action, it\\'s likely playable on mobile devices. The HDTC support means it should be accessible on various HD devices.\\n\\nHere\\'s a concise answer based on the context:\\n\\n**Download Coolie (2025) Hindi Movie Formats:**\\n- 480p  \\n- 720p  \\n- 1080p  \\n\\nThe movie is available for download and streaming across these resolutions, with HDTC support.'"
      ]
     },
     "execution_count": 17,
     "metadata": {},
     "output_type": "execute_result"
    }
   ],
   "source": [
    "from langchain_core.documents import Document\n",
    "document_chain.invoke({\n",
    "    \"input\":\"download Coolie (2025) Hindi Movie available in 1080p, 720p & 480p Qualities For Your Mobile/tablet/Computer. This movie is based on Action.\",\n",
    "    \"context\":[Document(page_content=\"Download Coolie (2025) Hindi Movie 480p | 720p | 1080p HDTC 1 week ago✅Download Coolie (2025) Hindi Movie available in 1080p, 720p & 480p Qualities For Your Mobile/tablet/Computer. This movie is based on Action.\")]\n",
    "    \n",
    "})"
   ]
  },
  {
   "cell_type": "markdown",
   "id": "52feae57",
   "metadata": {},
   "source": [
    "However we want the document to first come from the retriver we just set up. That way, we can use the retriver to dinamically select the most relavent document and pass those in for a given question."
   ]
  },
  {
   "cell_type": "code",
   "execution_count": 18,
   "id": "1c4d56e3",
   "metadata": {},
   "outputs": [
    {
     "data": {
      "text/plain": [
       "<langchain_community.vectorstores.faiss.FAISS at 0x17dfc94b3d0>"
      ]
     },
     "execution_count": 18,
     "metadata": {},
     "output_type": "execute_result"
    }
   ],
   "source": [
    "### Input --> Retriver --> vectorstoreDB\n",
    "\n",
    "vectorstoredb"
   ]
  },
  {
   "cell_type": "code",
   "execution_count": 19,
   "id": "5cd52e61",
   "metadata": {},
   "outputs": [],
   "source": [
    "retriver=vectorstoredb.as_retriever()\n",
    "from langchain.chains import create_retrieval_chain\n",
    "retrival_chain=create_retrieval_chain(retriver,document_chain)"
   ]
  },
  {
   "cell_type": "code",
   "execution_count": 20,
   "id": "8ba48558",
   "metadata": {},
   "outputs": [
    {
     "data": {
      "text/plain": [
       "RunnableBinding(bound=RunnableAssign(mapper={\n",
       "  context: RunnableBinding(bound=RunnableLambda(lambda x: x['input'])\n",
       "           | VectorStoreRetriever(tags=['FAISS', 'OllamaEmbeddings'], vectorstore=<langchain_community.vectorstores.faiss.FAISS object at 0x0000017DFC94B3D0>, search_kwargs={}), kwargs={}, config={'run_name': 'retrieve_documents'}, config_factories=[])\n",
       "})\n",
       "| RunnableAssign(mapper={\n",
       "    answer: RunnableBinding(bound=RunnableBinding(bound=RunnableAssign(mapper={\n",
       "              context: RunnableLambda(format_docs)\n",
       "            }), kwargs={}, config={'run_name': 'format_inputs'}, config_factories=[])\n",
       "            | ChatPromptTemplate(input_variables=['context'], input_types={}, partial_variables={}, messages=[HumanMessagePromptTemplate(prompt=PromptTemplate(input_variables=['context'], input_types={}, partial_variables={}, template='\\n    Answer the following question based only on the provided context:\\n    <context>\\n    {context}\\n    </context>\\n\\n    '), additional_kwargs={})])\n",
       "            | ChatOllama(model='deepseek-r1:1.5b')\n",
       "            | StrOutputParser(), kwargs={}, config={'run_name': 'stuff_documents_chain'}, config_factories=[])\n",
       "  }), kwargs={}, config={'run_name': 'retrieval_chain'}, config_factories=[])"
      ]
     },
     "execution_count": 20,
     "metadata": {},
     "output_type": "execute_result"
    }
   ],
   "source": [
    "retrival_chain"
   ]
  },
  {
   "cell_type": "code",
   "execution_count": 21,
   "id": "cad8d20c",
   "metadata": {},
   "outputs": [
    {
     "data": {
      "text/plain": [
       "'<think>\\nOkay, so I\\'m trying to figure out what the user is asking for. They provided a context with several movie files and some information about BollyFlix. It seems like they\\'re looking for a way to view these movies online.\\n\\nFirst, I\\'ll go through each file in the context. The first one is \"Blackjack (1998) REMASTERED UNCUT Dual Audio [Hindi-English] Movie 480p | 720p | 1080p BluRay ESub.\" That\\'s a blackjack movie, so I know it\\'s probably an action or drama film.\\n\\nNext is \"Abandoned Man (2025) Dual Audio [Hindi-Turkish] Movie 480p | 720p | 1080p WEB-DL MSubs.\" That\\'s a Turkish movie from 2025. Maybe it\\'s set in an abandoned area.\\n\\nThen there are several \"Two Graves\" entries, all Multi Audio [Hindi-English-Spanish] and Web Series. So these could be spanning multiple languages, maybe from India or other South Asian countries. The URLs like 480p | 720p | 1080p WEB-DL MSubs suggest they\\'re available on different web series platforms.\\n\\n\"Dr. Stone (Season 1-4) Multi Audio [Hindi-English-Japanese] Anime Series 480p | 720p | 1080p WEB-DL MSubs [S04E20 Added]\" is another one, but it\\'s more specifically an anime series from Japan.\\n\\n\"Lord of Mysteries (Season 1) Dual Audio {Hindi-Chinese} Anime Series 480p | 720p | 1080p Web-DL ESub [S01E08 Added]\" is a Chinese movie about the Lord of the Rings, which I think is a classic.\\n\\n\"Zebra (2024) Dual Audio [Hindi-Telugu] Movie 480p | 720p | 1080p WEB-DL ESub\" is a Telugu movie from 2024.\\n\\nAnother \"Vunnadhi Okate Zindagi (2017)\" is a Telugu movie, likely a romantic comedy or drama.\\n\\n\"Vanangaan (2025) Dual Audio [Hindi-Tamil] Movie 480p | 720p | 1080p WEB-DL ESub\" is Tamil from 2025.\\n\\nThen there are several posts about BollyFlix, which includes a new domain update. It seems to be related to streaming content, possibly for those interested in Hindi and other languages\\' films.\\n\\nThe user also provided some genre tags like Action, Adventure, Animation, Comedy, etc., and year tags up to 2016-2020, so maybe they\\'re looking for filtering options based on these.\\n\\nSo, putting it all together, the user is probably searching for a way to view or download these movies online. They might be interested in streaming them, searching through a database, or perhaps viewing specific series within BollyFlix. I should consider what kind of assistance they need—like recommendations for each file, filtering options based on their interests, maybe even some links or a platform recommendation.\\n\\nI think the best approach is to list out each movie\\'s details and suggest resources where they can find these movies. For example, mentioning specific platforms like Netflix, Amazon Prime Video, KOREAN DRAMA, etc., and providing URL structures for download if applicable.\\n</think>\\n\\nIt seems you\\'re looking for ways to view or download these movies online. Here’s a summary of what I’ve gathered from the context:\\n\\n1. **Blackjack (1998)**: A blackjack film in Hindi-English available on various streaming platforms like Netflix and Amazon Prime Video.\\n\\n2. **Abandoned Man**: A Turkish movie set in an abandoned area, likely available on YouTube or platforms like BollyFlix.\\n\\n3. **Two Graves Series**: Multi Audio Spanish-Punjabi web series available on platforms like Netflix and Amazon Prime Video, with specific URLs provided.\\n\\n4. **Dr. Stone (Season 1-4)**: A Japanese anime series available on platforms like YouTube, Google Play, and Amazon Prime Video, with the URL structure [Hindi-English-Japanese] for downloads.\\n\\n5. **Lord of Mysteries**: A Chinese movie about Lord of the Rings set in a fantasy world, available on platforms like YouTube, Google Play, and Amazon Prime Video.\\n\\n6. **Zebra (2024)**: A Telugu movie from 2024 available on BollyFlix.\\n\\n7. **Vunnadhi Okate Zindagi**: A Telugu romantic comedy or drama from 2017 available on YouTube and Google Play.\\n\\n8. **Vanangaan**: A Tamil film from 2025 available on platforms like YouTube, Google Play, and Amazon Prime Video.\\n\\n9. **Posts on BollyFlix**: The site is updated with a new domain (BollyFlix) to enhance its online content for Hindi and other languages\\' movies.\\n\\nFor streaming recommendations:\\n- Netflix: [Hindi-English](https://www.netflix.com)\\n- Amazon Prime Video: [Hindi-English](https://www.amazonprimevideo.com)\\n- KOREAN DRAMA: [Hindi-Turkish](https://www.koreandrama.org)\\n\\nIf you need more specific details or recommendations, let me know!'"
      ]
     },
     "execution_count": 21,
     "metadata": {},
     "output_type": "execute_result"
    }
   ],
   "source": [
    "## get the response from the LLM\n",
    "response=retrival_chain.invoke({\"input\":\"This movie is based on Action.\"})\n",
    "response['answer']"
   ]
  },
  {
   "cell_type": "code",
   "execution_count": 22,
   "id": "0ede19cf",
   "metadata": {},
   "outputs": [
    {
     "name": "stdout",
     "output_type": "stream",
     "text": [
      "{'input': 'This movie is based on Action.', 'context': [Document(id='745731cd-cdb9-4114-8ae3-874531b4ceba', metadata={'source': 'https://bollyflix.faith/', 'title': 'BollyFlix | Official Site, Bolly Flix, 300MB Movies, 9xMovies, BollyFlix.Net, BollyFlix.com', 'description': 'Download Latest Bollywood, Hollywood, Dual Audio Hindi Dubbed, 300MB Movies Movies || Google Drive Direct Download Links || BollyFlix, bollyflix, 720p BluRay Movies.', 'language': 'en-US'}, page_content='Download Blackjack (1998) REMASTERED UNCUT Dual Audio [Hindi-English] Movie 480p | 720p | 1080p BluRay ESub \\n\\n\\n\\n \\n\\n\\nDownload Abandoned Man (2025) Dual Audio [Hindi-Turkish] Movie 480p | 720p | 1080p WEB-DL MSubs \\n\\n\\n\\n \\n\\n\\nDownload Two Graves (Season 1) Multi Audio [Hindi-English-Spanish] WEB Series 480p | 720p | 1080p WEB-DL MSubs \\n\\n\\n\\n \\n\\n\\nDownload Dr. Stone (Season 1-4) Multi Audio [Hindi-English-Japanese] Anime Series 480p | 720p | 1080p WEB-DL MSubs [S04E20 Added] \\n\\n\\n\\n \\n\\n\\nDownload Lord of the Mysteries (Season 1) Dual Audio {Hindi-Chinese} Anime Series 480p | 720p | 1080p Web-DL ESub [S01E08 Added] \\n\\n\\n\\n \\n\\n\\nDownload Zebra (2024) Dual Audio [Hindi-Telugu] Movie 480p | 720p | 1080p WEB-DL ESub \\n\\n\\n\\n \\n\\n\\nDownload Vunnadhi Okate Zindagi (2017) Dual Audio [Hindi-Telugu] Movie 480p | 720p | 1080p WEB-DL ESub \\n\\n\\n\\n \\n\\n\\nDownload Vanangaan (2025) Dual Audio [Hindi-Tamil] Movie 480p | 720p | 1080p WEB-DL ESub \\n \\n\\nPosts pagination\\n1\\n2\\n3\\n4\\n5\\n6\\n…\\n762\\nNext\\n \\n\\n\\n\\n\\n\\n\\n\\n\\nBollyFlix Copyright © 2025.'), Document(id='5b792c19-fc41-4ab7-84cd-3ddfc8f0a200', metadata={'source': 'https://bollyflix.faith/', 'title': 'BollyFlix | Official Site, Bolly Flix, 300MB Movies, 9xMovies, BollyFlix.Net, BollyFlix.com', 'description': 'Download Latest Bollywood, Hollywood, Dual Audio Hindi Dubbed, 300MB Movies Movies || Google Drive Direct Download Links || BollyFlix, bollyflix, 720p BluRay Movies.', 'language': 'en-US'}, page_content='ANIME\\n \\n\\n\\n\\n\\n\\n\\n\\n\\n\\n\\n\\n Join Telegram\\n [18+] Movies\\nBollywood\\nHollywood\\nSouth (Hindi Dubbed)\\nDual Audio\\nWEB Series\\nKorean Drama\\n\\n\\n\\n ×  Our New Domain is BollyFlix.To ||  Please Update Your Bookmark  \\n\\n\\n\\n\\n\\n\\n \\n\\n\\nDownload Peacemaker (Season 1 – 2) Dual Audio [Hindi-English] WEB Series 480p | 720p | 1080p | 2160p BluRay ESub [S2E02 Added] \\n\\n\\n\\n \\n\\n\\nDownload Coolie (2025) Hindi Movie 480p | 720p | 1080p HDTC \\n\\n\\n\\n \\n\\n\\nDownload War 2 (2025) Hindi Movie 480p | 720p | 1080p Pre-HDRip \\n\\n\\n\\n \\n\\n\\nDownload Drop Dead Gorgeous (1999) English Movie 480p | 720p | 1080p BluRay ESub \\n\\n\\n\\n \\n\\n\\nDownload A Higher Law (2021) English Movie 480p | 720p | 1080p WEB-DL ESub \\n\\n\\n\\n \\n\\n\\nDownload I Was Reincarnated as the 7th Prince So I Can Take My Time Perfecting My Magical Ability (Season 1-2) Multi Audio [Hindi-English-Japanese] Anime Series 480p | 720p | 1080p WEB-DL ESub [S02E03 Added] \\n\\n\\n\\n \\n\\n\\nDownload Dekin no Mogura (Season 1) Dual Audio {Hindi-Japanese} Anime Series 480p | 720p | 1080p Web-DL ESub [S01E09 Added]'), Document(id='f5ef70b9-d59b-47b7-a69b-936d00a25d32', metadata={'source': 'https://bollyflix.faith/', 'title': 'BollyFlix | Official Site, Bolly Flix, 300MB Movies, 9xMovies, BollyFlix.Net, BollyFlix.com', 'description': 'Download Latest Bollywood, Hollywood, Dual Audio Hindi Dubbed, 300MB Movies Movies || Google Drive Direct Download Links || BollyFlix, bollyflix, 720p BluRay Movies.', 'language': 'en-US'}, page_content='Download Dekin no Mogura (Season 1) Dual Audio {Hindi-Japanese} Anime Series 480p | 720p | 1080p Web-DL ESub [S01E09 Added] \\n\\n\\n\\n \\n\\n\\nDownload My Dress-Up Darling (Season 1-2) Dual Audio {Hindi-English-Japanese} WEB Series 480p | 720p | 1080p WEB-DL ESub [S02E06 Added] \\n\\n\\n\\n \\n\\n\\nDownload Vash Level 2 (2025) Hindi Movie 480p | 720p | 1080p HDTC \\n\\n\\n\\n \\n\\n\\nDownload Kaiju No. 8 (Season 1-2) Multi Audio [Hindi-English-Japanese] Anime Series 480p | 720p | 1080p WEB-DL MSubs [S02E07 Added] \\n\\n\\n\\n \\n\\n\\nDownload Param Sundari (2025) Hindi Movie 480p | 720p | 1080p HDTC \\n\\n\\n\\n \\n\\n\\nDownload Crime + Punishment in Suburbia (2000) English Movie 480p | 720p | 1080p BluRay ESub \\n\\n\\n\\n \\n\\n\\nDownload Cockneys vs Zombies (2012) Dual Audio [Hindi-English] Movie 480p | 720p | 1080p BluRay ESub \\n\\n\\n\\n \\n\\n\\nDownload CCTV (2021) Dual Audio [Hindi-Korean] Movie 480p | 720p | 1080p WEB-DL ESub \\n\\n\\n\\n \\n\\n\\nDownload Blackjack (1998) REMASTERED UNCUT Dual Audio [Hindi-English] Movie 480p | 720p | 1080p BluRay ESub'), Document(id='14058317-f2b3-4aab-a110-6b92ff7cf9e5', metadata={'source': 'https://bollyflix.faith/', 'title': 'BollyFlix | Official Site, Bolly Flix, 300MB Movies, 9xMovies, BollyFlix.Net, BollyFlix.com', 'description': 'Download Latest Bollywood, Hollywood, Dual Audio Hindi Dubbed, 300MB Movies Movies || Google Drive Direct Download Links || BollyFlix, bollyflix, 720p BluRay Movies.', 'language': 'en-US'}, page_content='BollyFlix | Official Site, Bolly Flix, 300MB Movies, 9xMovies, BollyFlix.Net, BollyFlix.com\\n\\n\\n\\n\\n\\n\\n\\n\\n\\n\\n\\n\\n\\n\\n\\n\\n\\n\\n\\n\\n\\n\\n\\n\\n\\n\\n\\n\\n\\n\\n\\n\\n\\n\\n\\n\\n\\n\\n\\n\\n\\n\\n\\n\\n\\n\\n\\n \\nBollyflix\\n\\n\\n\\n\\n\\n\\n\\n\\n\\n\\n\\n\\n\\n\\n\\n\\n\\n\\n\\n\\n\\n\\n\\n\\n\\n\\n\\n\\n\\n\\nMenu\\n\\n🏠 HOME\\n🎬 MOVIES\\n\\nSOUTH HINDI DUBBED\\nADULT MOVIES\\nBOLLYWOOD\\nDUAL AUDIO\\nHINDI DUBBED\\nHOLLYWOOD\\nMULTI AUDIO\\nPUNJABI\\nBENGALI\\n\\n\\n🔗 GENRE\\n\\nACTION\\nADVENTURE\\nANIMATION\\nCOMEDY\\nCRIME\\nDRAMA\\nFANTASY\\nHISTORICAL\\nHORROR\\nMYSTERY\\nPOLITICAL\\nROMANCE\\nSCI-FI\\nTHRILLER\\n\\n\\n📅 YEAR\\n\\n2025\\n2024\\n2023\\n2022\\n2021\\n2016-2020\\n\\n2016\\n2017\\n2018\\n2019\\n2020\\n\\n\\n2011-2015\\n2006-2010\\n2001-2005\\n1880-2000\\n\\n\\n☠️ QUALITY\\n\\n480p MOVIES\\n720p MOVIES\\n1080p MOVIES\\n300MB MOVIES\\n500MB MOVIES\\n700MB MOVIES\\n900MB MOVIES\\n1GB MOVIES\\n\\n\\n📺 TV SHOWS\\n🌐 WEB SERIES\\n\\nNETFLIX\\nAMAZON PRIME VIDEO\\nKOREAN DRAMA\\nHINDI DUBBED SERIES\\nHOTSTAR\\nHULU\\nMX PLAYER ORIGINALS\\nVOOT SELECT\\nONGOING SERIES\\n\\n\\nANIME\\n \\n\\n\\n\\n\\n\\n\\n\\n\\n\\n\\n\\n Join Telegram\\n [18+] Movies\\nBollywood\\nHollywood\\nSouth (Hindi Dubbed)\\nDual Audio\\nWEB Series\\nKorean Drama')], 'answer': '<think>\\nOkay, so I\\'m trying to figure out what the user is asking for. They provided a context with several movie files and some information about BollyFlix. It seems like they\\'re looking for a way to view these movies online.\\n\\nFirst, I\\'ll go through each file in the context. The first one is \"Blackjack (1998) REMASTERED UNCUT Dual Audio [Hindi-English] Movie 480p | 720p | 1080p BluRay ESub.\" That\\'s a blackjack movie, so I know it\\'s probably an action or drama film.\\n\\nNext is \"Abandoned Man (2025) Dual Audio [Hindi-Turkish] Movie 480p | 720p | 1080p WEB-DL MSubs.\" That\\'s a Turkish movie from 2025. Maybe it\\'s set in an abandoned area.\\n\\nThen there are several \"Two Graves\" entries, all Multi Audio [Hindi-English-Spanish] and Web Series. So these could be spanning multiple languages, maybe from India or other South Asian countries. The URLs like 480p | 720p | 1080p WEB-DL MSubs suggest they\\'re available on different web series platforms.\\n\\n\"Dr. Stone (Season 1-4) Multi Audio [Hindi-English-Japanese] Anime Series 480p | 720p | 1080p WEB-DL MSubs [S04E20 Added]\" is another one, but it\\'s more specifically an anime series from Japan.\\n\\n\"Lord of Mysteries (Season 1) Dual Audio {Hindi-Chinese} Anime Series 480p | 720p | 1080p Web-DL ESub [S01E08 Added]\" is a Chinese movie about the Lord of the Rings, which I think is a classic.\\n\\n\"Zebra (2024) Dual Audio [Hindi-Telugu] Movie 480p | 720p | 1080p WEB-DL ESub\" is a Telugu movie from 2024.\\n\\nAnother \"Vunnadhi Okate Zindagi (2017)\" is a Telugu movie, likely a romantic comedy or drama.\\n\\n\"Vanangaan (2025) Dual Audio [Hindi-Tamil] Movie 480p | 720p | 1080p WEB-DL ESub\" is Tamil from 2025.\\n\\nThen there are several posts about BollyFlix, which includes a new domain update. It seems to be related to streaming content, possibly for those interested in Hindi and other languages\\' films.\\n\\nThe user also provided some genre tags like Action, Adventure, Animation, Comedy, etc., and year tags up to 2016-2020, so maybe they\\'re looking for filtering options based on these.\\n\\nSo, putting it all together, the user is probably searching for a way to view or download these movies online. They might be interested in streaming them, searching through a database, or perhaps viewing specific series within BollyFlix. I should consider what kind of assistance they need—like recommendations for each file, filtering options based on their interests, maybe even some links or a platform recommendation.\\n\\nI think the best approach is to list out each movie\\'s details and suggest resources where they can find these movies. For example, mentioning specific platforms like Netflix, Amazon Prime Video, KOREAN DRAMA, etc., and providing URL structures for download if applicable.\\n</think>\\n\\nIt seems you\\'re looking for ways to view or download these movies online. Here’s a summary of what I’ve gathered from the context:\\n\\n1. **Blackjack (1998)**: A blackjack film in Hindi-English available on various streaming platforms like Netflix and Amazon Prime Video.\\n\\n2. **Abandoned Man**: A Turkish movie set in an abandoned area, likely available on YouTube or platforms like BollyFlix.\\n\\n3. **Two Graves Series**: Multi Audio Spanish-Punjabi web series available on platforms like Netflix and Amazon Prime Video, with specific URLs provided.\\n\\n4. **Dr. Stone (Season 1-4)**: A Japanese anime series available on platforms like YouTube, Google Play, and Amazon Prime Video, with the URL structure [Hindi-English-Japanese] for downloads.\\n\\n5. **Lord of Mysteries**: A Chinese movie about Lord of the Rings set in a fantasy world, available on platforms like YouTube, Google Play, and Amazon Prime Video.\\n\\n6. **Zebra (2024)**: A Telugu movie from 2024 available on BollyFlix.\\n\\n7. **Vunnadhi Okate Zindagi**: A Telugu romantic comedy or drama from 2017 available on YouTube and Google Play.\\n\\n8. **Vanangaan**: A Tamil film from 2025 available on platforms like YouTube, Google Play, and Amazon Prime Video.\\n\\n9. **Posts on BollyFlix**: The site is updated with a new domain (BollyFlix) to enhance its online content for Hindi and other languages\\' movies.\\n\\nFor streaming recommendations:\\n- Netflix: [Hindi-English](https://www.netflix.com)\\n- Amazon Prime Video: [Hindi-English](https://www.amazonprimevideo.com)\\n- KOREAN DRAMA: [Hindi-Turkish](https://www.koreandrama.org)\\n\\nIf you need more specific details or recommendations, let me know!'}\n"
     ]
    }
   ],
   "source": [
    "print(response)"
   ]
  }
 ],
 "metadata": {
  "kernelspec": {
   "display_name": "venv",
   "language": "python",
   "name": "python3"
  },
  "language_info": {
   "codemirror_mode": {
    "name": "ipython",
    "version": 3
   },
   "file_extension": ".py",
   "mimetype": "text/x-python",
   "name": "python",
   "nbconvert_exporter": "python",
   "pygments_lexer": "ipython3",
   "version": "3.11.9"
  }
 },
 "nbformat": 4,
 "nbformat_minor": 5
}
