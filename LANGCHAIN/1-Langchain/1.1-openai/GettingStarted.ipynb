{
 "cells": [
  {
   "cell_type": "markdown",
   "id": "415ee1ea",
   "metadata": {},
   "source": [
    "#### Getting start With langchain And OpenAI\n",
    "\n",
    "In this quickstart we'll see how to :\n",
    "    - Get setup with langchain, LangSmith and LangServe\n",
    "    - Use the most basic and common components of LaangChain: prompt template, models and output parsers.\n",
    "    - Build a simple application with LangChain\n",
    "    - Trace your application with LangSmith\n",
    "    - Serve your application with LangServe"
   ]
  },
  {
   "cell_type": "code",
   "execution_count": 4,
   "id": "814a86cf",
   "metadata": {},
   "outputs": [],
   "source": [
    "import os\n",
    "from dotenv import load_dotenv\n",
    "load_dotenv()\n",
    "\n",
    "# os.environ['OPENAI_API_KEY']=os.getenv(\"OPENAI_API_KEY\")\n",
    "## Langsmith Tracking\n",
    "os.environ[\"LANGCHAIN_API_KEY\"]=os.getenv(\"LANGCHAIN_API_KEY\")\n",
    "os.environ[\"LANGCHAIN_TRACKING_V2\"]=\"true\"\n",
    "os.environ[\"LANGCHAIN_PROJECT\"]=os.getenv(\"LANGCHAIN_PROJECT\")\n",
    "\n"
   ]
  },
  {
   "cell_type": "code",
   "execution_count": null,
   "id": "928f2887",
   "metadata": {},
   "outputs": [],
   "source": [
    "# add open ai api key to use this\n",
    "\n",
    "# from langchain_openai import chat_models\n",
    "# llm= ChatOpenAI(model=\"gpt-5o\")\n",
    "# print(llm)"
   ]
  },
  {
   "cell_type": "code",
   "execution_count": 13,
   "id": "26489537",
   "metadata": {},
   "outputs": [
    {
     "name": "stdout",
     "output_type": "stream",
     "text": [
      "content='<think>\\nOkay, so I need to figure out how to respond to the user\\'s message. They wrote \"Hello, how are you?\" which is pretty straightforward. My job here is to acknowledge their greeting and offer assistance.\\n\\nFirst, I should probably restate their greeting in a warm manner. Maybe something like \"Hey! That\\'s good to hear. How can I assist you today?\"\\n\\nThen, I need to invite them to ask whatever they need help with. I\\'ll make sure it sounds open-ended to encourage them to share more.\\n\\nPutting it all together, the response should flow naturally and be friendly.\\n</think>\\n\\nCertainly! Here\\'s a response:\\n\\n\"Hey! That\\'s good to hear. How can I assist you today?\"' additional_kwargs={} response_metadata={'model': 'deepseek-r1:1.5b', 'created_at': '2025-09-01T18:47:12.7995747Z', 'message': {'role': 'assistant', 'content': ''}, 'done_reason': 'stop', 'done': True, 'total_duration': 16887064300, 'load_duration': 132417500, 'prompt_eval_count': 9, 'prompt_eval_duration': 380771900, 'eval_count': 148, 'eval_duration': 16368847800} id='run--f61360aa-aa04-446c-ba56-c0ea8fd1f272-0'\n"
     ]
    }
   ],
   "source": [
    "from langchain_community.chat_models import ChatOllama\n",
    "\n",
    "llm = ChatOllama(model=\"deepseek-r1:1.5b\")  # or \"llama2\", \"mistral\", etc.\n",
    "response = llm.invoke(\"Hello, how are you?\")\n",
    "print(response)"
   ]
  },
  {
   "cell_type": "code",
   "execution_count": 17,
   "id": "62f49469",
   "metadata": {},
   "outputs": [
    {
     "name": "stdout",
     "output_type": "stream",
     "text": [
      "content='<think>\\nOkay, so I need to figure out how to respond to the user\\'s message. They wrote \"Hello, how are you?\" which is pretty straightforward. My job here is to acknowledge their greeting and offer assistance.\\n\\nFirst, I should probably restate their greeting in a warm manner. Maybe something like \"Hey! That\\'s good to hear. How can I assist you today?\"\\n\\nThen, I need to invite them to ask whatever they need help with. I\\'ll make sure it sounds open-ended to encourage them to share more.\\n\\nPutting it all together, the response should flow naturally and be friendly.\\n</think>\\n\\nCertainly! Here\\'s a response:\\n\\n\"Hey! That\\'s good to hear. How can I assist you today?\"' additional_kwargs={} response_metadata={'model': 'deepseek-r1:1.5b', 'created_at': '2025-09-01T18:47:12.7995747Z', 'message': {'role': 'assistant', 'content': ''}, 'done_reason': 'stop', 'done': True, 'total_duration': 16887064300, 'load_duration': 132417500, 'prompt_eval_count': 9, 'prompt_eval_duration': 380771900, 'eval_count': 148, 'eval_duration': 16368847800} id='run--f61360aa-aa04-446c-ba56-c0ea8fd1f272-0'\n"
     ]
    }
   ],
   "source": [
    "print(response)"
   ]
  },
  {
   "cell_type": "code",
   "execution_count": 14,
   "id": "b25ab875",
   "metadata": {},
   "outputs": [],
   "source": [
    "## input n get response from llm\n",
    "\n",
    "result = llm.invoke(\"what is generative ai\")"
   ]
  },
  {
   "cell_type": "code",
   "execution_count": 18,
   "id": "b22a7685",
   "metadata": {},
   "outputs": [
    {
     "name": "stdout",
     "output_type": "stream",
     "text": [
      "content='<think>\\n\\n</think>\\n\\nGenerative AI refers to advanced artificial intelligence technologies that can create, simulate, or generate a wide range of outputs with high-quality accuracy. These models are designed to produce text, images, audio, music, and other forms of content that closely resemble human creativity.\\n\\n### Key Features of Generative AI:\\n1. **Text Generation**: Generating coherent and meaningful text, such as writing poetry, translating languages, or even filling in gaps in documents.\\n2. **Image and Audio Creation**: Creating realistic images from descriptions, generating audio from lyrics, or producing high-quality soundtracks.\\n3. **Answer Generation**: Summarizing texts, providing explanations, or generating answers to questions based on vast amounts of data.\\n4. **Synthesis and Completion**: Handling incomplete information by completing sentences, filling in missing parts of a narrative, or even assisting with creative writing.\\n\\n### Popular Generative AI Models:\\n- **ChatGPT**: A highly influential model used for text generation and conversation modeling.\\n- **Claude**: Developed by OpenAI, it is known for its ability to generate human-like text.\\n- **DALL-E**: A text-to-image generation tool that allows users to create images based on descriptions.\\n- **Midjourney**: Known for high-quality image synthesis from text prompts.\\n- ** prompting**: An open-source model used in creative tasks like writing stories and composing music.\\n\\n### Applications of Generative AI:\\n1. **Art and Design**: Generating artistic concepts, designing products, or creating visuals.\\n2. **Education**: Teaching literature, history, or science by generating engaging content.\\n3. **Business**: Assisting with research, proposal writing, or developing strategies for new products.\\n4. **Creative Writing**: Guiding writers in brainstorming sessions, expanding on ideas, and delivering creative concepts.\\n5. **Healthcare**: Assisting in research, data analysis, or generating medical summaries.\\n\\nGenerative AI is a rapidly advancing field that has the potential to transform many industries by making creative tasks more accessible and efficient.' additional_kwargs={} response_metadata={'model': 'deepseek-r1:1.5b', 'created_at': '2025-09-01T18:48:40.5790169Z', 'message': {'role': 'assistant', 'content': ''}, 'done_reason': 'stop', 'done': True, 'total_duration': 39926279400, 'load_duration': 128769200, 'prompt_eval_count': 8, 'prompt_eval_duration': 268088100, 'eval_count': 408, 'eval_duration': 39528114300} id='run--51d5d96e-ce34-40c6-8bd7-a3e176703c18-0'\n"
     ]
    }
   ],
   "source": [
    "print(result)"
   ]
  },
  {
   "cell_type": "code",
   "execution_count": 20,
   "id": "3aedc669",
   "metadata": {},
   "outputs": [
    {
     "data": {
      "text/plain": [
       "ChatPromptTemplate(input_variables=['input'], input_types={}, partial_variables={}, messages=[SystemMessagePromptTemplate(prompt=PromptTemplate(input_variables=[], input_types={}, partial_variables={}, template='you are an expert AI Engineer. Provide me answer based on the questions.'), additional_kwargs={}), HumanMessagePromptTemplate(prompt=PromptTemplate(input_variables=['input'], input_types={}, partial_variables={}, template='{input}'), additional_kwargs={})])"
      ]
     },
     "execution_count": 20,
     "metadata": {},
     "output_type": "execute_result"
    }
   ],
   "source": [
    "### Chatprompt template\n",
    "from langchain_core.prompts import ChatPromptTemplate\n",
    "\n",
    "prompt=ChatPromptTemplate.from_messages(\n",
    "    [\n",
    "        (\"system\",\"you are an expert AI Engineer. Provide me answer based on the questions.\"),\n",
    "        (\"user\",\"{input}\")\n",
    "    ]\n",
    ")\n",
    "prompt"
   ]
  },
  {
   "cell_type": "code",
   "execution_count": 21,
   "id": "0e79bf7d",
   "metadata": {},
   "outputs": [
    {
     "name": "stdout",
     "output_type": "stream",
     "text": [
      "content='<think>\\nAlright, so I need to figure out what a Langsmith is. I\\'ve heard the name before in some chemistry or engineering context, but I\\'m not exactly sure where it comes from. Let me start by thinking about the parts of \"Lang\" and \"Smith.\" \\n\\n\"L\" could stand for lithium maybe? Because lithium is often used as an electron transfer metal. Then there\\'s \"smith,\" which might be short for Smith because of the first letter. So putting that together, I guess it\\'s something like Lithium Smith or L-Smith. \\n\\nI\\'ve heard about lithium in the context of batteries and energy storage systems. So maybe a Langsmith is related to lithium compounds used in such devices. But wait, what exactly makes a Langsmith? Are they elements, compounds, or perhaps materials? The name doesn\\'t sound like an element because it\\'s made up of multiple elements.\\n\\nPerhaps it\\'s a compound that combines lithium with other elements, known by this name. I\\'m trying to think about the applications. Maybe in cathode batteries where lithium is the electron transfer metal. Or could it be something used in solar cells or fuel cells? \\n\\nI remember reading somewhere that some materials are named after scientists because they contribute to significant breakthroughs. But I can\\'t recall a specific compound with such a name. Maybe it\\'s more about the properties of these materials rather than just being called \"Lithium Smith.\" \\n\\nLet me think about other metals and their compounds. For example, lead and boron make up lead boron oxide (PBO), which is used in certain industrial processes. Is there an analogous compound with a similar name? Perhaps something like Lithium Boron Oxide? That might be the Langsmith.\\n\\nIf that\\'s the case, then it could be used as a material in lithium-based applications for energy storage or catalysis. But I\\'m not sure if that\\'s widely recognized or if there\\'s a standard name for such compounds. \\n\\nAlternatively, maybe it\\'s just an older term for something else entirely. Maybe \"Lithium Smith\" refers to a type of battery material that uses lithium as the active ingredient but in a different form or structure. \\n\\nAnother angle: I\\'ve heard about Langmuir-Hinshelwood reactions, which involve three species reacting at a surface. Could it be related to those? That might mean something like Lithium Hydroxide or another lithium compound involved in such reactions.\\n\\nBut then again, without specific knowledge, this is all speculative. To get a better understanding, I might need to look up the properties of \"Lithium Smith\" compounds. Maybe there are research papers or articles discussing their applications and uses. \\n\\nIn any case, it seems that Langsmith refers likely to lithium-based materials used in energy storage systems due to its electron transfer properties. The specifics would depend on the compound\\'s chemistry and application.\\n</think>\\n\\nA Langsmith is a material primarily associated with lithium-based compounds, often found in applications such as cathode batteries and energy storage systems. The term \"Lithium Smith\" likely refers to lithium compounds used in these contexts. One notable example is Lithium Boron Oxide (LBO), which combines lithium, boron, and oxygen. This compound may be used in similar ways to PBO, contributing to industrial processes like solar cell or fuel cell applications. However, without specific details on the Langsmith compound\\'s name or application, this is speculative. Further research into lithium compounds would provide more precise information about their properties and uses.' additional_kwargs={} response_metadata={'model': 'deepseek-r1:1.5b', 'created_at': '2025-09-01T18:59:05.8494491Z', 'message': {'role': 'assistant', 'content': ''}, 'done_reason': 'stop', 'done': True, 'total_duration': 74505264200, 'load_duration': 3970067000, 'prompt_eval_count': 25, 'prompt_eval_duration': 1187535600, 'eval_count': 715, 'eval_duration': 69344447300} id='run--31134609-7ea8-45b0-b0fa-b164d948c47e-0'\n"
     ]
    }
   ],
   "source": [
    "chain=prompt|llm\n",
    "\n",
    "response=chain.invoke({\"input\":\"Can you tell me about Langsmith\"})\n",
    "print(response)"
   ]
  },
  {
   "cell_type": "code",
   "execution_count": 22,
   "id": "4bae0da4",
   "metadata": {},
   "outputs": [
    {
     "data": {
      "text/plain": [
       "langchain_core.messages.ai.AIMessage"
      ]
     },
     "execution_count": 22,
     "metadata": {},
     "output_type": "execute_result"
    }
   ],
   "source": [
    "type(response)"
   ]
  },
  {
   "cell_type": "code",
   "execution_count": 23,
   "id": "d177950d",
   "metadata": {},
   "outputs": [
    {
     "name": "stdout",
     "output_type": "stream",
     "text": [
      "<think>\n",
      "Alright, the user wants to know more about Langsmith. I should start by identifying who Langsmith is. From what I remember, he's a chemist involved in the pharmaceutical industry.\n",
      "\n",
      "I think his work relates to developing drugs for specific conditions like diabetes or cardiovascular diseases. Maybe he's working on something related to gene therapy or drug delivery systems?\n",
      "\n",
      "Also, his research probably involves using advanced technologies and mathematical models. This could be part of improving existing treatments or designing new ones.\n",
      "\n",
      "I should mention the role of Langsmith in collaboration with other scientists and companies. Perhaps he works on big projects like clinical trials for drugs like glaxo’s Flomax or Pfizer’s ARB.\n",
      "\n",
      "It's important to highlight his contributions to drug development, especially targeting diseases that affect millions of people. He probably plays a key role in both discovery and delivery of new treatments.\n",
      "\n",
      "I should also note how Langsmith's work bridges chemistry with other fields like biophysics and biochemistry to create effective solutions for human health.\n",
      "</think>\n",
      "\n",
      "Langsmith is a prominent chemist who has contributed significantly to the field of pharmaceuticals, particularly in drug discovery and development. He is best known for his role as an executive at Glaxov, where he played a key role in developing the Flomax drug, which was a breakthrough step toward achieving clinical approval for insulin therapy for type 2 diabetes. Additionally, Langsmith has been involved in research related to gene therapy, drug delivery systems, and mathematical modeling of complex biological systems.\n",
      "\n",
      "Langsmith's work often involves collaboration with biologists, pharmacologists, and other scientists to design drugs that can be effectively delivered into the body or that target specific biological pathways. His research has also focused on improving computational methods for predicting drug behavior in biological systems, which has helped pharmaceutical companies better understand how drugs might interact with the human body.\n",
      "\n",
      "Overall, Langsmith's contributions have been instrumental in advancing the field of personalized medicine and have helped to address some of the major challenges facing the pharmaceutical industry today.\n"
     ]
    }
   ],
   "source": [
    "# string output parser\n",
    "from langchain_core.output_parsers import StrOutputParser\n",
    "output_parser=StrOutputParser()\n",
    "chain = prompt|llm|output_parser\n",
    "\n",
    "response=chain.invoke({\"input\":\"Can you tell me about Langsmith\"})\n",
    "print(response)"
   ]
  },
  {
   "cell_type": "code",
   "execution_count": null,
   "id": "de0cd8d5",
   "metadata": {},
   "outputs": [],
   "source": []
  },
  {
   "cell_type": "code",
   "execution_count": null,
   "id": "f2cd7c2f",
   "metadata": {},
   "outputs": [],
   "source": []
  },
  {
   "cell_type": "code",
   "execution_count": null,
   "id": "3d85a7bf",
   "metadata": {},
   "outputs": [],
   "source": []
  },
  {
   "cell_type": "code",
   "execution_count": null,
   "id": "abdf817a",
   "metadata": {},
   "outputs": [],
   "source": []
  },
  {
   "cell_type": "code",
   "execution_count": null,
   "id": "3226b0aa",
   "metadata": {},
   "outputs": [],
   "source": []
  },
  {
   "cell_type": "code",
   "execution_count": null,
   "metadata": {},
   "outputs": [],
   "source": []
  },
  {
   "cell_type": "code",
   "execution_count": null,
   "id": "b17dc6a2",
   "metadata": {},
   "outputs": [],
   "source": []
  }
 ],
 "metadata": {
  "kernelspec": {
   "display_name": "venv",
   "language": "python",
   "name": "python3"
  },
  "language_info": {
   "codemirror_mode": {
    "name": "ipython",
    "version": 3
   },
   "file_extension": ".py",
   "mimetype": "text/x-python",
   "name": "python",
   "nbconvert_exporter": "python",
   "pygments_lexer": "ipython3",
   "version": "3.11.9"
  }
 },
 "nbformat": 4,
 "nbformat_minor": 5
}
