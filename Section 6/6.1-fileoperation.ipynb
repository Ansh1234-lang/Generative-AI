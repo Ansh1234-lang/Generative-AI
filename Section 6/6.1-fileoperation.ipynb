{
 "cells": [
  {
   "cell_type": "code",
   "execution_count": 1,
   "id": "8438addd",
   "metadata": {},
   "outputs": [
    {
     "name": "stdout",
     "output_type": "stream",
     "text": [
      "hey! hello world\n",
      "this is a new line\n"
     ]
    }
   ],
   "source": [
    "# erad a whole file\n",
    "with open('example.txt','r') as file:\n",
    "    content= file.read()\n",
    "    print(content)\n",
    "    "
   ]
  },
  {
   "cell_type": "code",
   "execution_count": 2,
   "id": "6019cfe6",
   "metadata": {},
   "outputs": [
    {
     "name": "stdout",
     "output_type": "stream",
     "text": [
      "hey! hello world\n",
      "this is a new line\n"
     ]
    }
   ],
   "source": [
    "with open ('example.txt','r') as file:\n",
    "    for line in file:\n",
    "        print(line.strip())"
   ]
  },
  {
   "cell_type": "code",
   "execution_count": 3,
   "id": "f0b4c430",
   "metadata": {},
   "outputs": [],
   "source": [
    "# writing a file\n",
    "\n",
    "with open (\"example.txt\", 'w')as file:\n",
    "    file.write(\"hello thia is the new line.\\n\")\n",
    "    file.write('this is the new line 2')\n",
    "    "
   ]
  },
  {
   "cell_type": "code",
   "execution_count": 4,
   "id": "36125cfa",
   "metadata": {},
   "outputs": [],
   "source": [
    "# write a file without overwritting\n",
    "with open('example.txt','a') as file:\n",
    "    file.write('\\nthis is the line which i append')"
   ]
  },
  {
   "cell_type": "code",
   "execution_count": 5,
   "id": "ebbf3827",
   "metadata": {},
   "outputs": [],
   "source": [
    "# writing a list of line\n",
    "lines = [\n",
    "    '\\nthis the the example of multiple lines',\n",
    "    '\\nthis is the first line',\n",
    "    '\\nthis is the second line'\n",
    "]\n",
    "with open('example.txt','a') as file:\n",
    "    file.writelines(lines)"
   ]
  },
  {
   "cell_type": "code",
   "execution_count": 6,
   "id": "5800dfa0",
   "metadata": {},
   "outputs": [
    {
     "name": "stdout",
     "output_type": "stream",
     "text": [
      "b'hello thia is the new line.\\r\\nthis is the new line 2\\r\\nthis is the line which i append\\r\\nthis the the example of multiple lines\\r\\nthis is the first line\\r\\nthis is the second line'\n"
     ]
    }
   ],
   "source": [
    "# binary files\n",
    "with open ('example.txt','rb') as file:\n",
    "    content=file.read()\n",
    "    print(content)"
   ]
  },
  {
   "cell_type": "code",
   "execution_count": 7,
   "id": "96d1705d",
   "metadata": {},
   "outputs": [
    {
     "name": "stdout",
     "output_type": "stream",
     "text": [
      "Lines : 6, Words : 36, character :  168\n"
     ]
    }
   ],
   "source": [
    "# read z file and count the numner of lines, words, and character \n",
    "# counting lines m words and char in a text file\n",
    "def count_text_file(file_path):\n",
    "    with open(file_path, 'r') as file:\n",
    "        lines = file.readlines()\n",
    "        line_count = len(lines)\n",
    "        word_count = sum(len(line.split()) for line in lines)\n",
    "        char_count = sum(len(line) for line in lines)\n",
    "    return line_count, word_count , char_count\n",
    "file_path = 'example.txt'\n",
    "lines, words, character = count_text_file(file_path)\n",
    "print(f'Lines : {lines}, Words : {words}, character :  {character}')"
   ]
  },
  {
   "cell_type": "code",
   "execution_count": 8,
   "id": "4e34ebdf",
   "metadata": {},
   "outputs": [
    {
     "name": "stdout",
     "output_type": "stream",
     "text": [
      "hey! hello world\n",
      "this is a new line\n"
     ]
    }
   ],
   "source": [
    "# writing and then reading a file\n",
    "with open ('example.txt', 'w+') as file:\n",
    "    file.write('hey! hello world')\n",
    "    file.write('\\nthis is a new line')\n",
    "    \n",
    "    # move the cursor to the beginning\n",
    "    file.seek(0)\n",
    "    \n",
    "    # read the file\n",
    "    content = file.read()\n",
    "    print(content)"
   ]
  }
 ],
 "metadata": {
  "kernelspec": {
   "display_name": "Python 3",
   "language": "python",
   "name": "python3"
  },
  "language_info": {
   "codemirror_mode": {
    "name": "ipython",
    "version": 3
   },
   "file_extension": ".py",
   "mimetype": "text/x-python",
   "name": "python",
   "nbconvert_exporter": "python",
   "pygments_lexer": "ipython3",
   "version": "3.12.0"
  }
 },
 "nbformat": 4,
 "nbformat_minor": 5
}
