{
 "cells": [
  {
   "cell_type": "markdown",
   "id": "7fb5c723",
   "metadata": {},
   "source": [
    "Wordnet Lemmatizer :\n",
    " \n",
    "    Lemmatizer technique is like stemming . The output we will get after lemmatization is called 'lemma' , which is a root word rather than root stem, the output of stemming. After lemmatization, we will be getting a valid word that mean the same thing.\n",
    "\n",
    "    NLTK provide WordNetLemmatizer class which is a thin wrapper around the wordnet corpus . This class uses morphy() function to the WordNet CorpusReader class to find a lemma. "
   ]
  },
  {
   "cell_type": "code",
   "execution_count": null,
   "id": "964ec6d2",
   "metadata": {},
   "outputs": [],
   "source": [
    "#  QNA Chatbots text summarization"
   ]
  },
  {
   "cell_type": "code",
   "execution_count": 9,
   "id": "ac5a854a",
   "metadata": {},
   "outputs": [
    {
     "name": "stderr",
     "output_type": "stream",
     "text": [
      "[nltk_data] Downloading package wordnet to\n",
      "[nltk_data]     C:\\Users\\HP\\AppData\\Roaming\\nltk_data...\n"
     ]
    }
   ],
   "source": [
    "import nltk\n",
    "nltk.download('wordnet')\n",
    "\n",
    "from nltk.stem import WordNetLemmatizer"
   ]
  },
  {
   "cell_type": "code",
   "execution_count": 10,
   "id": "a175a6ee",
   "metadata": {},
   "outputs": [],
   "source": [
    "lemmatizer = WordNetLemmatizer()"
   ]
  },
  {
   "cell_type": "code",
   "execution_count": 17,
   "id": "a756b440",
   "metadata": {},
   "outputs": [
    {
     "data": {
      "text/plain": [
       "'going'"
      ]
     },
     "execution_count": 17,
     "metadata": {},
     "output_type": "execute_result"
    }
   ],
   "source": [
    "'''\n",
    "POS- Noun-n\n",
    "verb-v\n",
    "adjective-a\n",
    "adverb-r\n",
    "'''\n",
    "lemmatizer.lemmatize(\"going\", pos='n')"
   ]
  },
  {
   "cell_type": "code",
   "execution_count": 20,
   "id": "25e2cdc3",
   "metadata": {},
   "outputs": [],
   "source": [
    "words = [\"eating\",\"eat\",\"goes\",\"go\",\"writes\",\"programming\",\"programs\",\"history\",\"finally\",\"finalize\"]"
   ]
  },
  {
   "cell_type": "code",
   "execution_count": 24,
   "id": "736f6a8b",
   "metadata": {},
   "outputs": [
    {
     "name": "stdout",
     "output_type": "stream",
     "text": [
      "eating------>eating\n",
      "eat------>eat\n",
      "goes------>go\n",
      "go------>go\n",
      "writes------>writes\n",
      "programming------>programming\n",
      "programs------>program\n",
      "history------>history\n",
      "finally------>finally\n",
      "finalize------>finalize\n"
     ]
    }
   ],
   "source": [
    "for word in words:\n",
    "    print(word+\"------>\"+lemmatizer.lemmatize(word,pos='n'))"
   ]
  },
  {
   "cell_type": "code",
   "execution_count": 30,
   "id": "809ec7eb",
   "metadata": {},
   "outputs": [
    {
     "data": {
      "text/plain": [
       "('go', 'fairly')"
      ]
     },
     "execution_count": 30,
     "metadata": {},
     "output_type": "execute_result"
    }
   ],
   "source": [
    "lemmatizer.lemmatize('goes', pos='v'), lemmatizer.lemmatize('fairly', pos='v')"
   ]
  },
  {
   "cell_type": "code",
   "execution_count": null,
   "id": "2f0a2eac",
   "metadata": {},
   "outputs": [],
   "source": []
  }
 ],
 "metadata": {
  "kernelspec": {
   "display_name": "Python 3",
   "language": "python",
   "name": "python3"
  },
  "language_info": {
   "codemirror_mode": {
    "name": "ipython",
    "version": 3
   },
   "file_extension": ".py",
   "mimetype": "text/x-python",
   "name": "python",
   "nbconvert_exporter": "python",
   "pygments_lexer": "ipython3",
   "version": "3.12.0"
  }
 },
 "nbformat": 4,
 "nbformat_minor": 5
}
