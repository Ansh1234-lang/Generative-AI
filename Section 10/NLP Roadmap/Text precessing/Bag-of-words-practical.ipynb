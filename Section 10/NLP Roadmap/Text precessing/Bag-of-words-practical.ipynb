{
 "cells": [
  {
   "cell_type": "code",
   "execution_count": null,
   "id": "00753701",
   "metadata": {},
   "outputs": [],
   "source": [
    "import os\n",
    "import pandas as pd\n",
    "messages = pd.read_csv('SpamClassifier-master\\smsspamcollection\\SMSSpamClassification',\n",
    "                      sep='\\t', names=[\"label\",\"messages\"])"
   ]
  },
  {
   "cell_type": "code",
   "execution_count": null,
   "id": "8cb4edd9",
   "metadata": {},
   "outputs": [],
   "source": [
    "messages"
   ]
  },
  {
   "cell_type": "code",
   "execution_count": null,
   "id": "302f0398",
   "metadata": {},
   "outputs": [],
   "source": [
    "# data cleaning and preprocessing\n",
    "import re\n",
    "import nltk\n",
    "nltk.download('stopwords')"
   ]
  },
  {
   "cell_type": "code",
   "execution_count": null,
   "id": "ffd4d14a",
   "metadata": {},
   "outputs": [],
   "source": [
    "from nltk.corpus import stopwords\n",
    "from nltk.stem.porter import PorterStemmer\n",
    "ps = PorterStemmer()\n",
    "sw = stopwords()"
   ]
  },
  {
   "cell_type": "code",
   "execution_count": null,
   "id": "0bd1b6b9",
   "metadata": {},
   "outputs": [],
   "source": [
    "corpus = []\n",
    "for i in range (0,len(messages)):\n",
    "    review=re.sub('[]')"
   ]
  },
  {
   "cell_type": "code",
   "execution_count": null,
   "id": "3ed8ddd2",
   "metadata": {},
   "outputs": [],
   "source": [
    "# create bag of words model\n",
    "\n",
    "from sklearn.feature_extraction.text import CounterVectorize\n",
    "# for binary BOW enable Binary= true\n",
    "cv = CounterVectorize(max_feature= 100,binary=True)"
   ]
  },
  {
   "cell_type": "code",
   "execution_count": null,
   "id": "dc35d116",
   "metadata": {},
   "outputs": [],
   "source": [
    "X = cv.fit_transform(corpus).toarray()"
   ]
  },
  {
   "cell_type": "code",
   "execution_count": null,
   "id": "9c8e752d",
   "metadata": {},
   "outputs": [],
   "source": [
    "X.shape"
   ]
  },
  {
   "cell_type": "markdown",
   "id": "f3fb0b1c",
   "metadata": {},
   "source": [
    "N- Grams\n"
   ]
  },
  {
   "cell_type": "code",
   "execution_count": null,
   "id": "d060efb8",
   "metadata": {},
   "outputs": [],
   "source": []
  },
  {
   "cell_type": "code",
   "execution_count": null,
   "id": "52dd3e60",
   "metadata": {},
   "outputs": [],
   "source": []
  },
  {
   "cell_type": "code",
   "execution_count": null,
   "id": "e28f3820",
   "metadata": {},
   "outputs": [],
   "source": []
  }
 ],
 "metadata": {
  "kernelspec": {
   "display_name": "Python 3",
   "language": "python",
   "name": "python3"
  },
  "language_info": {
   "codemirror_mode": {
    "name": "ipython",
    "version": 3
   },
   "file_extension": ".py",
   "mimetype": "text/x-python",
   "name": "python",
   "nbconvert_exporter": "python",
   "pygments_lexer": "ipython3",
   "version": "3.12.0"
  }
 },
 "nbformat": 4,
 "nbformat_minor": 5
}
