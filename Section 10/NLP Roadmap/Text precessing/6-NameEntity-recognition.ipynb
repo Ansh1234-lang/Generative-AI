{
 "cells": [
  {
   "cell_type": "markdown",
   "id": "cf5556fe",
   "metadata": {},
   "source": [
    "Named entity Recognition\n",
    "\n",
    "sentence : \"the eifel tower was built from 1887 to 1889 by french engineer Gustave eiffel, Whose company specialized in building metal framework and structure .\"\n",
    "\n",
    "\"\"\"\n",
    "Person eg : Krish naik\n",
    "Place or Location : india\n",
    "Date eg: seotember, 24-09-1989\n",
    "Time eg: 4:30pm\n",
    "Money eg: 1 million dollar\n",
    "Organization eg: iNeuron private limited\n",
    "Percent eg: 20%\n",
    "\"\"\""
   ]
  },
  {
   "cell_type": "code",
   "execution_count": 2,
   "id": "56b1cbeb",
   "metadata": {},
   "outputs": [],
   "source": [
    "sentence = \"The Eiffel tower was built from 1887 to 1889 by french engineer Gustave Eiffel, Whose company specialized in building metal framework and structure .\""
   ]
  },
  {
   "cell_type": "code",
   "execution_count": 3,
   "id": "fe1430e5",
   "metadata": {},
   "outputs": [],
   "source": [
    "import nltk\n",
    "words = nltk.word_tokenize(sentence)"
   ]
  },
  {
   "cell_type": "code",
   "execution_count": 4,
   "id": "514fa022",
   "metadata": {},
   "outputs": [
    {
     "name": "stderr",
     "output_type": "stream",
     "text": [
      "[nltk_data] Downloading package words to\n",
      "[nltk_data]     C:\\Users\\HP\\AppData\\Roaming\\nltk_data...\n",
      "[nltk_data]   Package words is already up-to-date!\n"
     ]
    },
    {
     "data": {
      "text/plain": [
       "True"
      ]
     },
     "execution_count": 4,
     "metadata": {},
     "output_type": "execute_result"
    }
   ],
   "source": [
    "nltk.download('words')"
   ]
  },
  {
   "cell_type": "code",
   "execution_count": 5,
   "id": "d7955c7a",
   "metadata": {},
   "outputs": [],
   "source": [
    "tag_elements= nltk.pos_tag(words)"
   ]
  },
  {
   "cell_type": "code",
   "execution_count": 6,
   "id": "e3f49dbe",
   "metadata": {},
   "outputs": [
    {
     "name": "stderr",
     "output_type": "stream",
     "text": [
      "[nltk_data] Downloading package maxent_ne_chunker_tab to\n",
      "[nltk_data]     C:\\Users\\HP\\AppData\\Roaming\\nltk_data...\n",
      "[nltk_data]   Package maxent_ne_chunker_tab is already up-to-date!\n"
     ]
    },
    {
     "data": {
      "text/plain": [
       "True"
      ]
     },
     "execution_count": 6,
     "metadata": {},
     "output_type": "execute_result"
    }
   ],
   "source": [
    "nltk.download('maxent_ne_chunker_tab')\n"
   ]
  },
  {
   "cell_type": "code",
   "execution_count": 7,
   "id": "31a6b54c",
   "metadata": {},
   "outputs": [],
   "source": [
    "nltk.ne_chunk(tag_elements).draw()"
   ]
  },
  {
   "cell_type": "code",
   "execution_count": null,
   "id": "e05852cd",
   "metadata": {},
   "outputs": [],
   "source": []
  },
  {
   "cell_type": "code",
   "execution_count": null,
   "id": "175840b8",
   "metadata": {},
   "outputs": [],
   "source": []
  },
  {
   "cell_type": "markdown",
   "id": "d9500f2a",
   "metadata": {},
   "source": []
  }
 ],
 "metadata": {
  "kernelspec": {
   "display_name": "Python 3",
   "language": "python",
   "name": "python3"
  },
  "language_info": {
   "codemirror_mode": {
    "name": "ipython",
    "version": 3
   },
   "file_extension": ".py",
   "mimetype": "text/x-python",
   "name": "python",
   "nbconvert_exporter": "python",
   "pygments_lexer": "ipython3",
   "version": "3.12.0"
  }
 },
 "nbformat": 4,
 "nbformat_minor": 5
}
