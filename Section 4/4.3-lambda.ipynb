{
 "cells": [
  {
   "cell_type": "code",
   "execution_count": null,
   "id": "6c8ad52b",
   "metadata": {},
   "outputs": [],
   "source": [
    "# syntax \n",
    "def add(a,b):\n",
    "    return a+b\n"
   ]
  },
  {
   "cell_type": "code",
   "execution_count": null,
   "id": "45929cc8",
   "metadata": {},
   "outputs": [],
   "source": [
    "add(1,2)"
   ]
  },
  {
   "cell_type": "code",
   "execution_count": null,
   "id": "7c145d33",
   "metadata": {},
   "outputs": [],
   "source": [
    "addition = lambda a,b: a+b\n",
    "type(addition)\n",
    "print(addition(3,2))"
   ]
  },
  {
   "cell_type": "code",
   "execution_count": 1,
   "id": "e5ef452c",
   "metadata": {},
   "outputs": [
    {
     "name": "stdout",
     "output_type": "stream",
     "text": [
      "113\n"
     ]
    }
   ],
   "source": [
    "add_multiple = lambda a,b,c:a+b+c\n",
    "print(add_multiple(23,34,56))"
   ]
  },
  {
   "cell_type": "code",
   "execution_count": null,
   "id": "68209ce3",
   "metadata": {},
   "outputs": [],
   "source": []
  }
 ],
 "metadata": {
  "kernelspec": {
   "display_name": "Python 3",
   "language": "python",
   "name": "python3"
  },
  "language_info": {
   "codemirror_mode": {
    "name": "ipython",
    "version": 3
   },
   "file_extension": ".py",
   "mimetype": "text/x-python",
   "name": "python",
   "nbconvert_exporter": "python",
   "pygments_lexer": "ipython3",
   "version": "3.12.0"
  }
 },
 "nbformat": 4,
 "nbformat_minor": 5
}
