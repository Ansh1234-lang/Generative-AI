{
 "cells": [
  {
   "cell_type": "code",
   "execution_count": 1,
   "id": "8df2abe8",
   "metadata": {},
   "outputs": [
    {
     "data": {
      "text/plain": [
       "100"
      ]
     },
     "execution_count": 1,
     "metadata": {},
     "output_type": "execute_result"
    }
   ],
   "source": [
    "def squar(x):\n",
    "    return x*x\n",
    "squar(10)"
   ]
  },
  {
   "cell_type": "code",
   "execution_count": 3,
   "id": "e02cfa45",
   "metadata": {},
   "outputs": [
    {
     "data": {
      "text/plain": [
       "[1, 4, 9, 16, 25, 36, 49, 64, 81]"
      ]
     },
     "execution_count": 3,
     "metadata": {},
     "output_type": "execute_result"
    }
   ],
   "source": [
    "number = [1,2,3,4,5,6,7,8,9]\n",
    "list(map(squar,number))"
   ]
  },
  {
   "cell_type": "code",
   "execution_count": 4,
   "id": "0bbada84",
   "metadata": {},
   "outputs": [
    {
     "data": {
      "text/plain": [
       "[1, 4, 9, 16]"
      ]
     },
     "execution_count": 4,
     "metadata": {},
     "output_type": "execute_result"
    }
   ],
   "source": [
    "# lambda function with map\n",
    "number = [1,2,3,4]\n",
    "list(map(lambda x: x*x,number))"
   ]
  },
  {
   "cell_type": "code",
   "execution_count": 5,
   "id": "5041f795",
   "metadata": {},
   "outputs": [
    {
     "name": "stdout",
     "output_type": "stream",
     "text": [
      "[6, 8, 10, 12]\n"
     ]
    }
   ],
   "source": [
    "# list multiple numbers\n",
    "\n",
    "num1= [1,2,3,4]\n",
    "num2= [5,6,7,8]\n",
    "\n",
    "added_nums = list(map(lambda x,y:x+y,num1,num2))\n",
    "print(added_nums)"
   ]
  },
  {
   "cell_type": "code",
   "execution_count": null,
   "id": "68549bb7",
   "metadata": {},
   "outputs": [],
   "source": []
  },
  {
   "cell_type": "code",
   "execution_count": null,
   "id": "79f1576c",
   "metadata": {},
   "outputs": [],
   "source": []
  },
  {
   "cell_type": "code",
   "execution_count": null,
   "id": "2f9c3452",
   "metadata": {},
   "outputs": [],
   "source": []
  }
 ],
 "metadata": {
  "kernelspec": {
   "display_name": "Python 3",
   "language": "python",
   "name": "python3"
  },
  "language_info": {
   "codemirror_mode": {
    "name": "ipython",
    "version": 3
   },
   "file_extension": ".py",
   "mimetype": "text/x-python",
   "name": "python",
   "nbconvert_exporter": "python",
   "pygments_lexer": "ipython3",
   "version": "3.12.0"
  }
 },
 "nbformat": 4,
 "nbformat_minor": 5
}
