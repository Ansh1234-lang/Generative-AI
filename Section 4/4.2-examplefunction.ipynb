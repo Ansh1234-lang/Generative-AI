{
 "cells": [
  {
   "cell_type": "code",
   "execution_count": 9,
   "id": "dc2f6a35",
   "metadata": {},
   "outputs": [
    {
     "name": "stdout",
     "output_type": "stream",
     "text": [
      "temperature in farenhite:  73.4\n",
      "temperature in celcius:  -5.0\n"
     ]
    }
   ],
   "source": [
    "# temperature conversion\n",
    "def convert_temperature(temp,unit):\n",
    "    if unit == 'C':\n",
    "        return temp * 9/5 + 32\n",
    "    elif unit == 'F':\n",
    "        return (temp-32) *5/9\n",
    "    else:\n",
    "        return none\n",
    "\n",
    "print(\"temperature in farenhite: \",convert_temperature(23,'C'))\n",
    "print(\"temperature in celcius: \",convert_temperature(23,'F'))"
   ]
  },
  {
   "cell_type": "code",
   "execution_count": 10,
   "id": "673dbbbd",
   "metadata": {},
   "outputs": [
    {
     "name": "stdout",
     "output_type": "stream",
     "text": [
      "False\n",
      "True\n"
     ]
    }
   ],
   "source": [
    "# password strength checker\n",
    "\n",
    "def is_password_strong(password):\n",
    "    if not any(char.isdigit() for char in password):\n",
    "        return False\n",
    "    if len(password)<8:\n",
    "        return False\n",
    "    if not any(char.islower() for char in password):\n",
    "        return False\n",
    "    if not any(char in '!@#$%^&*()_+' for char in password):\n",
    "        return False\n",
    "    return True\n",
    "\n",
    "print(is_password_strong(\"WEAKPassword\"))\n",
    "print(is_password_strong(\"Strong@123\"))"
   ]
  },
  {
   "cell_type": "markdown",
   "id": "b43a87c0",
   "metadata": {},
   "source": []
  },
  {
   "cell_type": "code",
   "execution_count": null,
   "id": "151cf510",
   "metadata": {},
   "outputs": [],
   "source": []
  },
  {
   "cell_type": "code",
   "execution_count": null,
   "id": "b997e066",
   "metadata": {},
   "outputs": [],
   "source": []
  },
  {
   "cell_type": "code",
   "execution_count": null,
   "id": "3b21782a",
   "metadata": {},
   "outputs": [],
   "source": []
  },
  {
   "cell_type": "code",
   "execution_count": null,
   "id": "06b42f40",
   "metadata": {},
   "outputs": [],
   "source": []
  },
  {
   "cell_type": "code",
   "execution_count": null,
   "id": "05bfcc8e",
   "metadata": {},
   "outputs": [],
   "source": []
  }
 ],
 "metadata": {
  "kernelspec": {
   "display_name": "Python 3",
   "language": "python",
   "name": "python3"
  },
  "language_info": {
   "codemirror_mode": {
    "name": "ipython",
    "version": 3
   },
   "file_extension": ".py",
   "mimetype": "text/x-python",
   "name": "python",
   "nbconvert_exporter": "python",
   "pygments_lexer": "ipython3",
   "version": "3.12.0"
  }
 },
 "nbformat": 4,
 "nbformat_minor": 5
}
