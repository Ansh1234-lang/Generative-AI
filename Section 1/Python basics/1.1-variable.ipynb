{
 "cells": [
  {
   "cell_type": "code",
   "execution_count": 4,
   "id": "159be25d",
   "metadata": {},
   "outputs": [
    {
     "name": "stdout",
     "output_type": "stream",
     "text": [
      "100\n"
     ]
    }
   ],
   "source": [
    "a=100\n",
    "print(a)"
   ]
  },
  {
   "cell_type": "code",
   "execution_count": null,
   "id": "8ebd00d8",
   "metadata": {},
   "outputs": [
    {
     "name": "stdout",
     "output_type": "stream",
     "text": [
      "Name : Ansh\n",
      "Height :  5.9\n",
      "Age :  23\n",
      "Is Student :  True\n"
     ]
    }
   ],
   "source": [
    "name = \"Ansh\"\n",
    "height = 5.9\n",
    "age = 23\n",
    "is_student = True\n",
    "\n",
    "#print variable\n",
    "print(\"Name :\",name)\n",
    "print(\"Height :\",height)\n",
    "print(\"Age :\",age)\n",
    "print(\"Is Student :\",is_student)"
   ]
  },
  {
   "cell_type": "code",
   "execution_count": null,
   "id": "a3f9c04e",
   "metadata": {},
   "outputs": [],
   "source": [
    "#valid variable\n",
    "first_name = \"Ansh\"\n",
    "last_name = \"Verma\""
   ]
  },
  {
   "cell_type": "code",
   "execution_count": 3,
   "id": "3d8b1217",
   "metadata": {},
   "outputs": [
    {
     "name": "stdout",
     "output_type": "stream",
     "text": [
      "<class 'str'>\n",
      "<class 'int'>\n",
      "<class 'bool'>\n"
     ]
    }
   ],
   "source": [
    "# understanding variable types\n",
    "# python dynamically typed, type of  variable is determined at runtime\n",
    "age = 23\n",
    "height = 5.9\n",
    "name = \"ansh\"\n",
    "is_student= True\n",
    "\n",
    "\n",
    "print(type(name))\n",
    "print(type(age))\n",
    "print(type(is_student))\n"
   ]
  },
  {
   "cell_type": "code",
   "execution_count": 5,
   "id": "8b412e4e",
   "metadata": {},
   "outputs": [
    {
     "name": "stdout",
     "output_type": "stream",
     "text": [
      "<class 'float'>\n"
     ]
    }
   ],
   "source": [
    "# Type  checking and conversion\n",
    "\n",
    "print(type(height))\n"
   ]
  },
  {
   "cell_type": "code",
   "execution_count": 6,
   "id": "ab479928",
   "metadata": {},
   "outputs": [
    {
     "name": "stdout",
     "output_type": "stream",
     "text": [
      "23\n",
      "<class 'str'>\n"
     ]
    }
   ],
   "source": [
    "# tyoe conversion\n",
    "\n",
    "age_str = str(age)\n",
    "print(age)\n",
    "print(type(age_str))"
   ]
  },
  {
   "cell_type": "code",
   "execution_count": 8,
   "id": "e478ffff",
   "metadata": {},
   "outputs": [
    {
     "name": "stdout",
     "output_type": "stream",
     "text": [
      "<class 'int'>\n",
      "<class 'str'>\n"
     ]
    }
   ],
   "source": [
    "age = 23\n",
    "int(age)\n",
    "print(type(age))\n",
    "\n",
    "\n",
    "new_age=\"34\"\n",
    "print(type(new_age))\n"
   ]
  },
  {
   "cell_type": "code",
   "execution_count": null,
   "id": "845c75ca",
   "metadata": {},
   "outputs": [],
   "source": []
  }
 ],
 "metadata": {
  "kernelspec": {
   "display_name": "Python 3",
   "language": "python",
   "name": "python3"
  },
  "language_info": {
   "codemirror_mode": {
    "name": "ipython",
    "version": 3
   },
   "file_extension": ".py",
   "mimetype": "text/x-python",
   "name": "python",
   "nbconvert_exporter": "python",
   "pygments_lexer": "ipython3",
   "version": "3.12.0"
  }
 },
 "nbformat": 4,
 "nbformat_minor": 5
}
