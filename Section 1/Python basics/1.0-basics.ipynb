{
 "cells": [
  {
   "cell_type": "code",
   "execution_count": 11,
   "id": "84241b0d",
   "metadata": {},
   "outputs": [
    {
     "name": "stdout",
     "output_type": "stream",
     "text": [
      "Ansh\n",
      "Verma\n"
     ]
    }
   ],
   "source": [
    "# Basic syntax rule in python\n",
    "# case sensitivrity\n",
    "\n",
    "name = \"Ansh\"\n",
    "Name = \"Verma\"\n",
    "\n",
    "print(name)  # Output: ansh\n",
    "print(Name)  # Output: Verma"
   ]
  },
  {
   "cell_type": "markdown",
   "id": "e0edaa70",
   "metadata": {},
   "source": [
    "Indentation\n",
    "\n"
   ]
  },
  {
   "cell_type": "code",
   "execution_count": 12,
   "id": "8246edb3",
   "metadata": {},
   "outputs": [
    {
     "name": "stdout",
     "output_type": "stream",
     "text": [
      "You are younger than 30\n"
     ]
    }
   ],
   "source": [
    "##indentation\n",
    "##python uses indentation to define blocks of code. Consistent use of spaces or tabs is required.\n",
    "\n",
    "age = 25\n",
    "if age>30:\n",
    "    print(age)\n",
    "else:\n",
    "    print(\"You are younger than 30\")"
   ]
  },
  {
   "cell_type": "code",
   "execution_count": 13,
   "id": "ba57b066",
   "metadata": {},
   "outputs": [
    {
     "name": "stdout",
     "output_type": "stream",
     "text": [
      "51\n"
     ]
    }
   ],
   "source": [
    "## line continuation\n",
    "\n",
    "total = 1+2+3+4+5+6+7+8+9+0+\\\n",
    "1+2+3\n",
    "\n",
    "print(total)  # Output: 51\n"
   ]
  },
  {
   "cell_type": "code",
   "execution_count": 14,
   "id": "48098771",
   "metadata": {},
   "outputs": [
    {
     "name": "stdout",
     "output_type": "stream",
     "text": [
      "15\n"
     ]
    }
   ],
   "source": [
    "## multiple statements on a single line\n",
    "x=5; y=10; z=x+y\n",
    "print(z)  # Output: 15"
   ]
  },
  {
   "cell_type": "code",
   "execution_count": 15,
   "id": "52c2d5b6",
   "metadata": {},
   "outputs": [
    {
     "name": "stdout",
     "output_type": "stream",
     "text": [
      "23\n",
      "Ansh\n"
     ]
    }
   ],
   "source": [
    "## underscore semantics in python \n",
    "\n",
    "age = 23\n",
    "name = \"Ansh\"\n",
    "print(age)  # Output: 23\n",
    "print(name)  # Output: Ansh"
   ]
  },
  {
   "cell_type": "code",
   "execution_count": 16,
   "id": "3d4d1e37",
   "metadata": {},
   "outputs": [
    {
     "name": "stdout",
     "output_type": "stream",
     "text": [
      "<class 'int'>\n",
      "<class 'str'>\n"
     ]
    }
   ],
   "source": [
    "# type interface\n",
    "\n",
    "print(type(age))\n",
    "print(type(name))"
   ]
  },
  {
   "cell_type": "code",
   "execution_count": null,
   "id": "bbd14e43",
   "metadata": {},
   "outputs": [
    {
     "name": "stdout",
     "output_type": "stream",
     "text": [
      "<class 'int'>\n",
      "<class 'str'>\n"
     ]
    }
   ],
   "source": [
    "#type interface\n",
    "# we ca change the type of a variable at any time in python\n",
    "variable = 10\n",
    "print(type(variable))  # Output: <class 'int'>\n",
    "variable = \"Hello\"\n",
    "print(type(variable))  # Output: <class 'str'>"
   ]
  },
  {
   "cell_type": "code",
   "execution_count": null,
   "id": "c8fa4b8d",
   "metadata": {},
   "outputs": [],
   "source": [
    "age = 32\n",
    "if age>30:\n",
    "    print(age)"
   ]
  }
 ],
 "metadata": {
  "kernelspec": {
   "display_name": "Python 3",
   "language": "python",
   "name": "python3"
  },
  "language_info": {
   "codemirror_mode": {
    "name": "ipython",
    "version": 3
   },
   "file_extension": ".py",
   "mimetype": "text/x-python",
   "name": "python",
   "nbconvert_exporter": "python",
   "pygments_lexer": "ipython3",
   "version": "3.12.0"
  }
 },
 "nbformat": 4,
 "nbformat_minor": 5
}
