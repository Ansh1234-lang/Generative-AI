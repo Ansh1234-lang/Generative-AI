{
 "cells": [
  {
   "cell_type": "code",
   "execution_count": 2,
   "id": "f9b1d5f0",
   "metadata": {},
   "outputs": [
    {
     "name": "stdout",
     "output_type": "stream",
     "text": [
      "you are allowed in the election for voting\n"
     ]
    }
   ],
   "source": [
    "# if statement\n",
    "age = 20\n",
    "\n",
    "if age>=18:\n",
    "    print(\"you are allowed in the election for voting\")\n"
   ]
  },
  {
   "cell_type": "code",
   "execution_count": 3,
   "id": "c95109d9",
   "metadata": {},
   "outputs": [
    {
     "name": "stdout",
     "output_type": "stream",
     "text": [
      "you are minor\n"
     ]
    }
   ],
   "source": [
    "# else statement\n",
    "# the else statement execute the code only if the if condition is false\n",
    "age = 16\n",
    "\n",
    "if age>=18:\n",
    "    print(\"you are eligibe to vote\")\n",
    "else:\n",
    "    print(\"you are minor\")\n"
   ]
  },
  {
   "cell_type": "code",
   "execution_count": 4,
   "id": "792eda11",
   "metadata": {},
   "outputs": [
    {
     "name": "stdout",
     "output_type": "stream",
     "text": [
      "u are teenager\n"
     ]
    }
   ],
   "source": [
    "# elif statement\n",
    "# the elif statement allow to check multiple condition\n",
    "#  it stands for else is\n",
    "age = 14\n",
    "if age<=13:\n",
    "    print(\"you are child\")\n",
    "if age>13 and age<19:\n",
    "    print(\"u are teenager\")\n",
    "if age>=20:\n",
    "    print(\"you are an adult\")\n",
    "\n"
   ]
  },
  {
   "cell_type": "code",
   "execution_count": 5,
   "id": "2715f131",
   "metadata": {},
   "outputs": [
    {
     "name": "stdout",
     "output_type": "stream",
     "text": [
      "number is positive\n",
      "numner is odd\n"
     ]
    }
   ],
   "source": [
    "# nested condition \n",
    "num = int(input(\"enter a number\"))\n",
    "\n",
    "if num>=0:\n",
    "    print(\"number is positive\")\n",
    "    if num /2 ==0:\n",
    "        print(\"number is even\")\n",
    "    else:\n",
    "        print(\"numner is odd\")\n",
    "else:\n",
    "    print(\"enter a valid number\")"
   ]
  },
  {
   "cell_type": "code",
   "execution_count": 6,
   "id": "34f37c5f",
   "metadata": {},
   "outputs": [
    {
     "name": "stdout",
     "output_type": "stream",
     "text": [
      "year is not a leap year\n"
     ]
    }
   ],
   "source": [
    "# practical example\n",
    "# leap year\n",
    "\n",
    "year = int(input(\"enter an year\"))\n",
    "\n",
    "if year % 4 == 0 :\n",
    "    if year %100 == 0:\n",
    "        if year % 400 == 0:\n",
    "            print(\"year is a leap year\")\n",
    "else:\n",
    "    print(\"year is not a leap year\")\n"
   ]
  },
  {
   "cell_type": "code",
   "execution_count": 7,
   "id": "26c1b283",
   "metadata": {},
   "outputs": [
    {
     "name": "stdout",
     "output_type": "stream",
     "text": [
      "invalid operator\n"
     ]
    }
   ],
   "source": [
    "# Assignment : simple calculator\n",
    "num1 = int(input(\"enter first number\"))\n",
    "num2 = int(input(\"enter second number\"))\n",
    "operator = input(\"enter an operator (+, -, *, /)\")\n",
    "\n",
    "if operator == \"+\":\n",
    "    print(\"sum is\", num1 + num2)\n",
    "elif operator == \"-\":\n",
    "    print(\"difference is\", num1 - num2)\n",
    "elif operator == \"*\":\n",
    "    print(\"multiplication is\", num1 * num2)\n",
    "elif operator == \"/\":\n",
    "    if num2 != 0:\n",
    "        print(\"division is\", num1 / num2)\n",
    "    else:\n",
    "        print(\"cannot divide by zero\")\n",
    "else:\n",
    "    print(\"invalid operator\")\n",
    "\n"
   ]
  }
 ],
 "metadata": {
  "kernelspec": {
   "display_name": "Python 3",
   "language": "python",
   "name": "python3"
  },
  "language_info": {
   "codemirror_mode": {
    "name": "ipython",
    "version": 3
   },
   "file_extension": ".py",
   "mimetype": "text/x-python",
   "name": "python",
   "nbconvert_exporter": "python",
   "pygments_lexer": "ipython3",
   "version": "3.12.0"
  }
 },
 "nbformat": 4,
 "nbformat_minor": 5
}
